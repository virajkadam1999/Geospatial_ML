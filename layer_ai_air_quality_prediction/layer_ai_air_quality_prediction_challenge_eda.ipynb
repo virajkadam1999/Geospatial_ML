{
  "metadata": {
    "kernelspec": {
      "language": "python",
      "display_name": "Python 3",
      "name": "python3"
    },
    "language_info": {
      "name": "python",
      "version": "3.7.12",
      "mimetype": "text/x-python",
      "codemirror_mode": {
        "name": "ipython",
        "version": 3
      },
      "pygments_lexer": "ipython3",
      "nbconvert_exporter": "python",
      "file_extension": ".py"
    },
    "colab": {
      "provenance": [],
      "collapsed_sections": []
    },
    "widgets": {
      "application/vnd.jupyter.widget-state+json": {
        "6a71ea6a7f884a9b950102d92bdeeb61": {
          "model_module": "@jupyter-widgets/output",
          "model_name": "OutputModel",
          "model_module_version": "1.0.0",
          "state": {
            "_dom_classes": [],
            "_model_module": "@jupyter-widgets/output",
            "_model_module_version": "1.0.0",
            "_model_name": "OutputModel",
            "_view_count": null,
            "_view_module": "@jupyter-widgets/output",
            "_view_module_version": "1.0.0",
            "_view_name": "OutputView",
            "layout": "IPY_MODEL_f385ead429b14bcb805a37fd91868832",
            "msg_id": "",
            "outputs": [
              {
                "output_type": "display_data",
                "data": {
                  "text/plain": "\u001b[32m⠴\u001b[0m  sample_submission    \u001b[38;2;21;127;61m━━━━━━━━━━\u001b[0m \u001b[38;2;21;127;61mLOADED\u001b[0m \u001b[39m[\u001b[0m\u001b[38;2;155;155;159m0:00:00\u001b[0m\u001b[39m]\u001b[0m \n",
                  "text/html": "<pre style=\"white-space:pre;overflow-x:auto;line-height:normal;font-family:Menlo,'DejaVu Sans Mono',consolas,'Courier New',monospace\"><span style=\"color: #008000; text-decoration-color: #008000\">⠴</span>  sample_submission    <span style=\"color: #157f3d; text-decoration-color: #157f3d\">━━━━━━━━━━</span> <span style=\"color: #157f3d; text-decoration-color: #157f3d\">LOADED</span> <span style=\"color: #000000; text-decoration-color: #000000\">[</span><span style=\"color: #9b9b9f; text-decoration-color: #9b9b9f\">0:00:00</span><span style=\"color: #000000; text-decoration-color: #000000\">]</span> \n</pre>\n"
                },
                "metadata": {}
              }
            ]
          }
        },
        "f385ead429b14bcb805a37fd91868832": {
          "model_module": "@jupyter-widgets/base",
          "model_name": "LayoutModel",
          "model_module_version": "1.2.0",
          "state": {
            "_model_module": "@jupyter-widgets/base",
            "_model_module_version": "1.2.0",
            "_model_name": "LayoutModel",
            "_view_count": null,
            "_view_module": "@jupyter-widgets/base",
            "_view_module_version": "1.2.0",
            "_view_name": "LayoutView",
            "align_content": null,
            "align_items": null,
            "align_self": null,
            "border": null,
            "bottom": null,
            "display": null,
            "flex": null,
            "flex_flow": null,
            "grid_area": null,
            "grid_auto_columns": null,
            "grid_auto_flow": null,
            "grid_auto_rows": null,
            "grid_column": null,
            "grid_gap": null,
            "grid_row": null,
            "grid_template_areas": null,
            "grid_template_columns": null,
            "grid_template_rows": null,
            "height": null,
            "justify_content": null,
            "justify_items": null,
            "left": null,
            "margin": null,
            "max_height": null,
            "max_width": null,
            "min_height": null,
            "min_width": null,
            "object_fit": null,
            "object_position": null,
            "order": null,
            "overflow": null,
            "overflow_x": null,
            "overflow_y": null,
            "padding": null,
            "right": null,
            "top": null,
            "visibility": null,
            "width": null
          }
        },
        "583a695213974c66aab081fae699a80f": {
          "model_module": "@jupyter-widgets/output",
          "model_name": "OutputModel",
          "model_module_version": "1.0.0",
          "state": {
            "_dom_classes": [],
            "_model_module": "@jupyter-widgets/output",
            "_model_module_version": "1.0.0",
            "_model_name": "OutputModel",
            "_view_count": null,
            "_view_module": "@jupyter-widgets/output",
            "_view_module_version": "1.0.0",
            "_view_name": "OutputView",
            "layout": "IPY_MODEL_6227d32b13c04d9ba12b54e9ae148498",
            "msg_id": "",
            "outputs": [
              {
                "output_type": "display_data",
                "data": {
                  "text/plain": "\u001b[32m⠴\u001b[0m  test                 \u001b[38;2;21;127;61m━━━━━━━━━━\u001b[0m \u001b[38;2;21;127;61mLOADED\u001b[0m \u001b[39m[\u001b[0m\u001b[38;2;155;155;159m0:00:00\u001b[0m\u001b[39m]\u001b[0m \n",
                  "text/html": "<pre style=\"white-space:pre;overflow-x:auto;line-height:normal;font-family:Menlo,'DejaVu Sans Mono',consolas,'Courier New',monospace\"><span style=\"color: #008000; text-decoration-color: #008000\">⠴</span>  test                 <span style=\"color: #157f3d; text-decoration-color: #157f3d\">━━━━━━━━━━</span> <span style=\"color: #157f3d; text-decoration-color: #157f3d\">LOADED</span> <span style=\"color: #000000; text-decoration-color: #000000\">[</span><span style=\"color: #9b9b9f; text-decoration-color: #9b9b9f\">0:00:00</span><span style=\"color: #000000; text-decoration-color: #000000\">]</span> \n</pre>\n"
                },
                "metadata": {}
              }
            ]
          }
        },
        "6227d32b13c04d9ba12b54e9ae148498": {
          "model_module": "@jupyter-widgets/base",
          "model_name": "LayoutModel",
          "model_module_version": "1.2.0",
          "state": {
            "_model_module": "@jupyter-widgets/base",
            "_model_module_version": "1.2.0",
            "_model_name": "LayoutModel",
            "_view_count": null,
            "_view_module": "@jupyter-widgets/base",
            "_view_module_version": "1.2.0",
            "_view_name": "LayoutView",
            "align_content": null,
            "align_items": null,
            "align_self": null,
            "border": null,
            "bottom": null,
            "display": null,
            "flex": null,
            "flex_flow": null,
            "grid_area": null,
            "grid_auto_columns": null,
            "grid_auto_flow": null,
            "grid_auto_rows": null,
            "grid_column": null,
            "grid_gap": null,
            "grid_row": null,
            "grid_template_areas": null,
            "grid_template_columns": null,
            "grid_template_rows": null,
            "height": null,
            "justify_content": null,
            "justify_items": null,
            "left": null,
            "margin": null,
            "max_height": null,
            "max_width": null,
            "min_height": null,
            "min_width": null,
            "object_fit": null,
            "object_position": null,
            "order": null,
            "overflow": null,
            "overflow_x": null,
            "overflow_y": null,
            "padding": null,
            "right": null,
            "top": null,
            "visibility": null,
            "width": null
          }
        },
        "b4f6197f91594616b91c89f97db4b108": {
          "model_module": "@jupyter-widgets/output",
          "model_name": "OutputModel",
          "model_module_version": "1.0.0",
          "state": {
            "_dom_classes": [],
            "_model_module": "@jupyter-widgets/output",
            "_model_module_version": "1.0.0",
            "_model_name": "OutputModel",
            "_view_count": null,
            "_view_module": "@jupyter-widgets/output",
            "_view_module_version": "1.0.0",
            "_view_name": "OutputView",
            "layout": "IPY_MODEL_37fb50f28b874660abd611e010bd3cfd",
            "msg_id": "",
            "outputs": [
              {
                "output_type": "display_data",
                "data": {
                  "text/plain": "\u001b[32m⠴\u001b[0m  train                \u001b[38;2;21;127;61m━━━━━━━━━━\u001b[0m \u001b[38;2;21;127;61mLOADED\u001b[0m \u001b[39m[\u001b[0m\u001b[38;2;155;155;159m0:00:00\u001b[0m\u001b[39m]\u001b[0m \n",
                  "text/html": "<pre style=\"white-space:pre;overflow-x:auto;line-height:normal;font-family:Menlo,'DejaVu Sans Mono',consolas,'Courier New',monospace\"><span style=\"color: #008000; text-decoration-color: #008000\">⠴</span>  train                <span style=\"color: #157f3d; text-decoration-color: #157f3d\">━━━━━━━━━━</span> <span style=\"color: #157f3d; text-decoration-color: #157f3d\">LOADED</span> <span style=\"color: #000000; text-decoration-color: #000000\">[</span><span style=\"color: #9b9b9f; text-decoration-color: #9b9b9f\">0:00:00</span><span style=\"color: #000000; text-decoration-color: #000000\">]</span> \n</pre>\n"
                },
                "metadata": {}
              }
            ]
          }
        },
        "37fb50f28b874660abd611e010bd3cfd": {
          "model_module": "@jupyter-widgets/base",
          "model_name": "LayoutModel",
          "model_module_version": "1.2.0",
          "state": {
            "_model_module": "@jupyter-widgets/base",
            "_model_module_version": "1.2.0",
            "_model_name": "LayoutModel",
            "_view_count": null,
            "_view_module": "@jupyter-widgets/base",
            "_view_module_version": "1.2.0",
            "_view_name": "LayoutView",
            "align_content": null,
            "align_items": null,
            "align_self": null,
            "border": null,
            "bottom": null,
            "display": null,
            "flex": null,
            "flex_flow": null,
            "grid_area": null,
            "grid_auto_columns": null,
            "grid_auto_flow": null,
            "grid_auto_rows": null,
            "grid_column": null,
            "grid_gap": null,
            "grid_row": null,
            "grid_template_areas": null,
            "grid_template_columns": null,
            "grid_template_rows": null,
            "height": null,
            "justify_content": null,
            "justify_items": null,
            "left": null,
            "margin": null,
            "max_height": null,
            "max_width": null,
            "min_height": null,
            "min_width": null,
            "object_fit": null,
            "object_position": null,
            "order": null,
            "overflow": null,
            "overflow_x": null,
            "overflow_y": null,
            "padding": null,
            "right": null,
            "top": null,
            "visibility": null,
            "width": null
          }
        }
      }
    }
  },
  "nbformat_minor": 0,
  "nbformat": 4,
  "cells": [
    {
      "cell_type": "markdown",
      "source": [
        "# Layer.ai Air Quality Prediction Challenge\n"
      ],
      "metadata": {
        "id": "d452647a-e545-485a-840f-23e01291cbd5"
      }
    },
    {
      "cell_type": "markdown",
      "source": [
        "**Install Layer**"
      ],
      "metadata": {
        "id": "fe61e9a8-0535-4021-ae7a-c3d5a4c42dcd"
      }
    },
    {
      "cell_type": "code",
      "source": [
        "pip install -q -U layer"
      ],
      "metadata": {
        "id": "ee31a3ed-68f1-460d-90f4-7dbe89185702",
        "execution": {
          "iopub.status.busy": "2022-09-25T10:37:25.794957Z",
          "iopub.execute_input": "2022-09-25T10:37:25.795728Z",
          "iopub.status.idle": "2022-09-25T10:38:00.317427Z",
          "shell.execute_reply.started": "2022-09-25T10:37:25.795606Z",
          "shell.execute_reply": "2022-09-25T10:38:00.315733Z"
        },
        "trusted": true,
        "colab": {
          "base_uri": "https://localhost:8080/"
        },
        "outputId": "feeb1f3d-d6bc-4327-ca58-79c37aebf37e"
      },
      "execution_count": 1,
      "outputs": [
        {
          "output_type": "stream",
          "name": "stdout",
          "text": [
            "\u001b[K     |████████████████████████████████| 189 kB 37.3 MB/s \n",
            "\u001b[K     |████████████████████████████████| 4.0 MB 68.4 MB/s \n",
            "\u001b[K     |████████████████████████████████| 343 kB 81.6 MB/s \n",
            "\u001b[K     |████████████████████████████████| 132 kB 74.6 MB/s \n",
            "\u001b[K     |████████████████████████████████| 235 kB 80.2 MB/s \n",
            "\u001b[K     |████████████████████████████████| 1.3 MB 75.1 MB/s \n",
            "\u001b[K     |████████████████████████████████| 35.3 MB 1.2 MB/s \n",
            "\u001b[K     |████████████████████████████████| 3.6 MB 93.5 MB/s \n",
            "\u001b[K     |████████████████████████████████| 106 kB 79.6 MB/s \n",
            "\u001b[K     |████████████████████████████████| 2.4 MB 59.5 MB/s \n",
            "\u001b[K     |████████████████████████████████| 79 kB 11.4 MB/s \n",
            "\u001b[K     |████████████████████████████████| 9.2 MB 74.4 MB/s \n",
            "\u001b[K     |████████████████████████████████| 140 kB 104.2 MB/s \n",
            "\u001b[K     |████████████████████████████████| 4.7 MB 90.1 MB/s \n",
            "\u001b[K     |████████████████████████████████| 2.4 MB 55.5 MB/s \n",
            "\u001b[K     |████████████████████████████████| 181 kB 111.6 MB/s \n",
            "\u001b[K     |████████████████████████████████| 77 kB 9.0 MB/s \n",
            "\u001b[K     |████████████████████████████████| 63 kB 2.4 MB/s \n",
            "\u001b[K     |████████████████████████████████| 127 kB 88.9 MB/s \n",
            "\u001b[K     |████████████████████████████████| 51 kB 4.1 MB/s \n",
            "\u001b[?25h  Building wheel for databricks-cli (setup.py) ... \u001b[?25l\u001b[?25hdone\n",
            "  Building wheel for polling (setup.py) ... \u001b[?25l\u001b[?25hdone\n"
          ]
        }
      ]
    },
    {
      "cell_type": "code",
      "source": [
        "!pip install folium mapclassify geopandas -q"
      ],
      "metadata": {
        "id": "d-5aFxDwQlUq",
        "colab": {
          "base_uri": "https://localhost:8080/"
        },
        "outputId": "9b5ff2ef-e773-4a75-8b29-00d3cc21c5f2"
      },
      "execution_count": 2,
      "outputs": [
        {
          "output_type": "stream",
          "name": "stdout",
          "text": [
            "\u001b[K     |████████████████████████████████| 1.0 MB 47.2 MB/s \n",
            "\u001b[K     |████████████████████████████████| 16.7 MB 118 kB/s \n",
            "\u001b[K     |████████████████████████████████| 6.3 MB 53.2 MB/s \n",
            "\u001b[?25h"
          ]
        }
      ]
    },
    {
      "cell_type": "code",
      "source": [
        "import layer\n",
        "from layer.decorators import dataset,model, pip_requirements\n",
        "\n",
        "from sklearn.mixture import GaussianMixture as GMM \n",
        "from sklearn.pipeline import Pipeline\n",
        "import matplotlib.pyplot as plt\n",
        "from sklearn.preprocessing import StandardScaler\n",
        "import pandas as pd \n",
        "import numpy as np \n",
        "import geopandas as gpd\n",
        "import folium\n",
        "from folium.plugins import MarkerCluster,HeatMap"
      ],
      "metadata": {
        "id": "cc57f4dd-98be-492b-8798-20d8d1ee1678",
        "execution": {
          "iopub.status.busy": "2022-09-25T10:38:00.320643Z",
          "iopub.execute_input": "2022-09-25T10:38:00.321167Z",
          "iopub.status.idle": "2022-09-25T10:38:01.797191Z",
          "shell.execute_reply.started": "2022-09-25T10:38:00.321115Z",
          "shell.execute_reply": "2022-09-25T10:38:01.796097Z"
        },
        "trusted": true
      },
      "execution_count": 3,
      "outputs": []
    },
    {
      "cell_type": "markdown",
      "source": [
        "# DATA\n",
        "\n",
        "**Fetch the datasets as Pandas DataFrames**"
      ],
      "metadata": {
        "id": "Ey0VDl2EQDWN"
      }
    },
    {
      "cell_type": "code",
      "source": [
        "sample_submission = layer.get_dataset(\"zindi/air-quality/datasets/sample_submission\").to_pandas()\n",
        "test_df = layer.get_dataset(\"zindi/air-quality/datasets/test\").to_pandas()\n",
        "train_df = layer.get_dataset(\"zindi/air-quality/datasets/train\").to_pandas()"
      ],
      "metadata": {
        "colab": {
          "base_uri": "https://localhost:8080/",
          "height": 74,
          "referenced_widgets": [
            "6a71ea6a7f884a9b950102d92bdeeb61",
            "f385ead429b14bcb805a37fd91868832",
            "583a695213974c66aab081fae699a80f",
            "6227d32b13c04d9ba12b54e9ae148498",
            "b4f6197f91594616b91c89f97db4b108",
            "37fb50f28b874660abd611e010bd3cfd"
          ]
        },
        "id": "Eu8Qs8P0QVBl",
        "outputId": "3c4cb86b-1a99-405e-97e1-d4f48e337723"
      },
      "execution_count": 176,
      "outputs": [
        {
          "output_type": "display_data",
          "data": {
            "text/plain": [
              "Output()"
            ],
            "application/vnd.jupyter.widget-view+json": {
              "version_major": 2,
              "version_minor": 0,
              "model_id": "6a71ea6a7f884a9b950102d92bdeeb61"
            }
          },
          "metadata": {}
        },
        {
          "output_type": "display_data",
          "data": {
            "text/plain": [],
            "text/html": [
              "<pre style=\"white-space:pre;overflow-x:auto;line-height:normal;font-family:Menlo,'DejaVu Sans Mono',consolas,'Courier New',monospace\"></pre>\n"
            ]
          },
          "metadata": {}
        },
        {
          "output_type": "display_data",
          "data": {
            "text/plain": [
              "\n"
            ],
            "text/html": [
              "<pre style=\"white-space:pre;overflow-x:auto;line-height:normal;font-family:Menlo,'DejaVu Sans Mono',consolas,'Courier New',monospace\">\n",
              "</pre>\n"
            ]
          },
          "metadata": {}
        },
        {
          "output_type": "display_data",
          "data": {
            "text/plain": [
              "Output()"
            ],
            "application/vnd.jupyter.widget-view+json": {
              "version_major": 2,
              "version_minor": 0,
              "model_id": "583a695213974c66aab081fae699a80f"
            }
          },
          "metadata": {}
        },
        {
          "output_type": "display_data",
          "data": {
            "text/plain": [],
            "text/html": [
              "<pre style=\"white-space:pre;overflow-x:auto;line-height:normal;font-family:Menlo,'DejaVu Sans Mono',consolas,'Courier New',monospace\"></pre>\n"
            ]
          },
          "metadata": {}
        },
        {
          "output_type": "display_data",
          "data": {
            "text/plain": [
              "\n"
            ],
            "text/html": [
              "<pre style=\"white-space:pre;overflow-x:auto;line-height:normal;font-family:Menlo,'DejaVu Sans Mono',consolas,'Courier New',monospace\">\n",
              "</pre>\n"
            ]
          },
          "metadata": {}
        },
        {
          "output_type": "display_data",
          "data": {
            "text/plain": [
              "Output()"
            ],
            "application/vnd.jupyter.widget-view+json": {
              "version_major": 2,
              "version_minor": 0,
              "model_id": "b4f6197f91594616b91c89f97db4b108"
            }
          },
          "metadata": {}
        },
        {
          "output_type": "display_data",
          "data": {
            "text/plain": [],
            "text/html": [
              "<pre style=\"white-space:pre;overflow-x:auto;line-height:normal;font-family:Menlo,'DejaVu Sans Mono',consolas,'Courier New',monospace\"></pre>\n"
            ]
          },
          "metadata": {}
        },
        {
          "output_type": "display_data",
          "data": {
            "text/plain": [
              "\n"
            ],
            "text/html": [
              "<pre style=\"white-space:pre;overflow-x:auto;line-height:normal;font-family:Menlo,'DejaVu Sans Mono',consolas,'Courier New',monospace\">\n",
              "</pre>\n"
            ]
          },
          "metadata": {}
        }
      ]
    },
    {
      "cell_type": "code",
      "source": [
        "# a copy of the original ids \n",
        "test_ids = test_df[['ID']].copy() \n",
        "train_id_cols = train_df[['ID']].copy()\n",
        "\n",
        "y = train_df[['pm2_5']]\n"
      ],
      "metadata": {
        "id": "kg5pCmJ8kMHb"
      },
      "execution_count": 177,
      "outputs": []
    },
    {
      "cell_type": "code",
      "source": [
        "train_df['date'] = pd.to_datetime(train_df['date'])\n",
        "test_df['date'] = pd.to_datetime(test_df['date'])"
      ],
      "metadata": {
        "id": "D38XVz8ITwhY"
      },
      "execution_count": 178,
      "outputs": []
    },
    {
      "cell_type": "code",
      "source": [
        "train_df.shape,test_df.shape"
      ],
      "metadata": {
        "colab": {
          "base_uri": "https://localhost:8080/"
        },
        "id": "mFGIMCW7rIXk",
        "outputId": "d40bea38-73e6-47b9-eb35-e79a6b36015f"
      },
      "execution_count": 179,
      "outputs": [
        {
          "output_type": "execute_result",
          "data": {
            "text/plain": [
              "((9923, 71), (4254, 70))"
            ]
          },
          "metadata": {},
          "execution_count": 179
        }
      ]
    },
    {
      "cell_type": "markdown",
      "source": [
        "**Log in to your Layer account using API key**"
      ],
      "metadata": {
        "id": "6b539b39-9a7a-421c-af38-ca02a481bf1d"
      }
    },
    {
      "cell_type": "code",
      "source": [
        "\n",
        "layer.login()"
      ],
      "metadata": {
        "id": "1559b153-a383-4014-ac41-017b9f2b317f",
        "execution": {
          "iopub.status.busy": "2022-09-25T10:38:01.800552Z",
          "iopub.execute_input": "2022-09-25T10:38:01.801475Z",
          "iopub.status.idle": "2022-09-25T10:38:04.884143Z",
          "shell.execute_reply.started": "2022-09-25T10:38:01.801424Z",
          "shell.execute_reply": "2022-09-25T10:38:04.882847Z"
        },
        "trusted": true
      },
      "execution_count": 43,
      "outputs": []
    },
    {
      "cell_type": "markdown",
      "source": [
        "**Create a Layer project**"
      ],
      "metadata": {
        "id": "be8c963a-42d6-446d-8429-cfd33952b735"
      }
    },
    {
      "cell_type": "code",
      "source": [
        "layer.init(\"air-quality-22_m1\")"
      ],
      "metadata": {
        "id": "4fa445e3-9cab-4ecb-b608-569cb0b4a13d",
        "outputId": "2ac32e82-c6d4-49a7-878c-3311da65eadf",
        "execution": {
          "iopub.status.busy": "2022-09-25T10:38:04.885686Z",
          "iopub.execute_input": "2022-09-25T10:38:04.886180Z",
          "iopub.status.idle": "2022-09-25T10:38:05.182272Z",
          "shell.execute_reply.started": "2022-09-25T10:38:04.886131Z",
          "shell.execute_reply": "2022-09-25T10:38:05.181109Z"
        },
        "trusted": true,
        "colab": {
          "base_uri": "https://localhost:8080/"
        }
      },
      "execution_count": 44,
      "outputs": [
        {
          "output_type": "execute_result",
          "data": {
            "text/plain": [
              "Your Layer project is here: https://app.layer.ai/viraaj/air-quality-22_m1"
            ]
          },
          "metadata": {},
          "execution_count": 44
        }
      ]
    },
    {
      "cell_type": "markdown",
      "source": [
        "# Exploratory Data Analysis"
      ],
      "metadata": {
        "id": "JJ8HMmtNQDWQ"
      }
    },
    {
      "cell_type": "code",
      "source": [
        "#distribution of pm2.5 readings\n",
        "y.plot(kind='hist',bins=100,figsize=(12,7),title='Dist of Training target',color='g')\n",
        "\n",
        "plt.show()"
      ],
      "metadata": {
        "colab": {
          "base_uri": "https://localhost:8080/",
          "height": 444
        },
        "id": "m63lIxxRqipV",
        "outputId": "7041c12b-c928-4abc-de09-5497ddd9cd94"
      },
      "execution_count": 180,
      "outputs": [
        {
          "output_type": "display_data",
          "data": {
            "text/plain": [
              "<Figure size 864x504 with 1 Axes>"
            ],
            "image/png": "[encoded data removed]"
          },
          "metadata": {
            "needs_background": "light"
          }
        }
      ]
    },
    {
      "cell_type": "markdown",
      "source": [
        "Do the `device` correspond to devices at different locations??"
      ],
      "metadata": {
        "id": "E6phXDdWQDWR"
      }
    },
    {
      "cell_type": "code",
      "source": [
        "train_df['device'].unique()\n"
      ],
      "metadata": {
        "id": "dFtcss_GXEIg",
        "outputId": "c49e204c-46d3-4d27-9b5b-e7183385e07e",
        "_kg_hide-output": true,
        "_kg_hide-input": true,
        "execution": {
          "iopub.status.busy": "2022-09-25T10:38:05.197786Z",
          "iopub.status.idle": "2022-09-25T10:38:05.199238Z",
          "shell.execute_reply.started": "2022-09-25T10:38:05.198977Z",
          "shell.execute_reply": "2022-09-25T10:38:05.199001Z"
        },
        "trusted": true,
        "colab": {
          "base_uri": "https://localhost:8080/"
        }
      },
      "execution_count": 181,
      "outputs": [
        {
          "output_type": "execute_result",
          "data": {
            "text/plain": [
              "array(['ANQ16PZJ', 'AB6051M4', 'A0WN66FH', 'aq_41', 'aq_54', 'AY2J2Q7Z',\n",
              "       'AR2RHV97', 'aq_64', 'A95X5F9T', 'AW66FF7V', 'APZ80RTM', 'aq_31',\n",
              "       'aq_59', 'aq_30', 'aq_76', 'aq_29', 'aq_70', 'APYZC5J7', 'aq_56',\n",
              "       'AJCK5L86', 'aq_46', 'aq_61', 'aq_49', 'AKSLS0FP', 'aq_74',\n",
              "       'aq_35', 'aq_43', 'aq_52', 'aq_60', 'aq_36', 'aq_45', 'aq_57',\n",
              "       'aq_47', 'aq_79'], dtype=object)"
            ]
          },
          "metadata": {},
          "execution_count": 181
        }
      ]
    },
    {
      "cell_type": "markdown",
      "source": [
        "Are there any new sensor locations in the test dataset ?"
      ],
      "metadata": {
        "id": "J_z5xMexkNmp"
      }
    },
    {
      "cell_type": "code",
      "source": [
        "[sen for sen in test_df['device'].unique() if sen not in train_df['device'].unique()]"
      ],
      "metadata": {
        "colab": {
          "base_uri": "https://localhost:8080/"
        },
        "id": "5ndggRc9kVCf",
        "outputId": "9d19f5d4-fc49-40c2-aa8a-bb86c2c9d408"
      },
      "execution_count": 182,
      "outputs": [
        {
          "output_type": "execute_result",
          "data": {
            "text/plain": [
              "['aq_91', 'aq_98']"
            ]
          },
          "metadata": {},
          "execution_count": 182
        }
      ]
    },
    {
      "cell_type": "markdown",
      "source": [
        "are all the locations are same across a individual device"
      ],
      "metadata": {
        "id": "8sQl4evHp5F1"
      }
    },
    {
      "cell_type": "code",
      "source": [
        "# checking if all the locations are same across a individual device \n",
        "all(train_df.groupby('device').last()[['site_latitude','site_longitude']] == train_df.groupby('device').first()[['site_latitude','site_longitude']])"
      ],
      "metadata": {
        "execution": {
          "iopub.status.busy": "2022-09-25T10:38:05.200626Z",
          "iopub.status.idle": "2022-09-25T10:38:05.201559Z",
          "shell.execute_reply.started": "2022-09-25T10:38:05.201345Z",
          "shell.execute_reply": "2022-09-25T10:38:05.201367Z"
        },
        "trusted": true,
        "colab": {
          "base_uri": "https://localhost:8080/"
        },
        "id": "jxMswsfMQDWT",
        "outputId": "b852268c-140e-44e9-a969-8278c7846ffb"
      },
      "execution_count": 183,
      "outputs": [
        {
          "output_type": "execute_result",
          "data": {
            "text/plain": [
              "True"
            ]
          },
          "metadata": {},
          "execution_count": 183
        }
      ]
    },
    {
      "cell_type": "markdown",
      "source": [
        "Count of `device` readings"
      ],
      "metadata": {
        "id": "GCMrZxORQDWT"
      }
    },
    {
      "cell_type": "code",
      "source": [
        "# how many readings per device ? \n",
        "train_df.groupby('device').size().plot(kind='bar',figsize=(12,7))"
      ],
      "metadata": {
        "_kg_hide-input": true,
        "_kg_hide-output": true,
        "execution": {
          "iopub.status.busy": "2022-09-25T10:38:05.202851Z",
          "iopub.status.idle": "2022-09-25T10:38:05.203660Z",
          "shell.execute_reply.started": "2022-09-25T10:38:05.203377Z",
          "shell.execute_reply": "2022-09-25T10:38:05.203420Z"
        },
        "trusted": true,
        "colab": {
          "base_uri": "https://localhost:8080/",
          "height": 506
        },
        "id": "nzETO9PgQDWU",
        "outputId": "cc69d942-19d9-440a-90f6-63916c6d4fa0"
      },
      "execution_count": 184,
      "outputs": [
        {
          "output_type": "execute_result",
          "data": {
            "text/plain": [
              "<matplotlib.axes._subplots.AxesSubplot at 0x7f58c5fc19d0>"
            ]
          },
          "metadata": {},
          "execution_count": 184
        },
        {
          "output_type": "display_data",
          "data": {
            "text/plain": [
              "<Figure size 864x504 with 1 Axes>"
            ],
            "image/png": "[encoded data removed]"
          },
          "metadata": {
            "needs_background": "light"
          }
        }
      ]
    },
    {
      "cell_type": "markdown",
      "source": [
        "Where are the `devices` located ?  "
      ],
      "metadata": {
        "id": "FsCIzPxMrY00"
      }
    },
    {
      "cell_type": "code",
      "source": [
        "#mean lat and longitude\n",
        "# lat,lon = train_df.groupby('device').last()[['site_latitude','site_longitude']].mean().values\n",
        "\n",
        "# basemap= folium.Map(tiles = \"Stamen Terrain\",\n",
        "#               location = (lat,lon),min_zoom = 12)"
      ],
      "metadata": {
        "execution": {
          "iopub.status.busy": "2022-09-25T10:38:05.205434Z",
          "iopub.status.idle": "2022-09-25T10:38:05.205862Z",
          "shell.execute_reply.started": "2022-09-25T10:38:05.205658Z",
          "shell.execute_reply": "2022-09-25T10:38:05.205679Z"
        },
        "trusted": true,
        "id": "lw8XdOaDQDWU"
      },
      "execution_count": 185,
      "outputs": []
    },
    {
      "cell_type": "markdown",
      "source": [
        "**Convert to a geo-dataframe and plot device locations**"
      ],
      "metadata": {
        "id": "SV0xaRB7QDWV"
      }
    },
    {
      "cell_type": "code",
      "source": [
        "# train_gdf = gpd.GeoDataFrame(data = train_df,\n",
        "#                              geometry = gpd.points_from_xy(x=train_df['site_longitude'],y=train_df['site_latitude'])\n",
        "#                             )\n",
        "#plotting unique locations\n",
        "# train_gdf.groupby('device').last().\\\n",
        "#                             reset_index().\\\n",
        "#                         explore(tooltip=['device','pm2_5'],\n",
        "#                                   marker_type=folium.Marker(),\n",
        "#                                   m = basemap\n",
        "\n",
        "#                                   )"
      ],
      "metadata": {
        "execution": {
          "iopub.status.busy": "2022-09-25T10:38:05.207329Z",
          "iopub.status.idle": "2022-09-25T10:38:05.207749Z",
          "shell.execute_reply.started": "2022-09-25T10:38:05.207553Z",
          "shell.execute_reply": "2022-09-25T10:38:05.207572Z"
        },
        "trusted": true,
        "id": "GIpsbIpuQDWV"
      },
      "execution_count": 186,
      "outputs": []
    },
    {
      "cell_type": "markdown",
      "source": [
        "What is the average of PM 2.5 readings? (Heatmap of values)"
      ],
      "metadata": {
        "id": "mTnUZNf0QDWW"
      }
    },
    {
      "cell_type": "code",
      "source": [
        "# pm_25 = train_gdf.groupby(['site_latitude','site_longitude'])['pm2_5'].mean().reset_index()\n",
        "\n",
        "#heatmap:\n",
        "# HeatMap(data=pm_25[['site_latitude','site_longitude','pm2_5']].values,\n",
        "#         radius=40,\n",
        "#         blur=15).add_to(basemap)\n",
        "# basemap"
      ],
      "metadata": {
        "execution": {
          "iopub.status.busy": "2022-09-25T10:38:05.208918Z",
          "iopub.status.idle": "2022-09-25T10:38:05.209342Z",
          "shell.execute_reply.started": "2022-09-25T10:38:05.209141Z",
          "shell.execute_reply": "2022-09-25T10:38:05.209161Z"
        },
        "trusted": true,
        "id": "43lsFJaJQDWX"
      },
      "execution_count": 187,
      "outputs": []
    },
    {
      "cell_type": "markdown",
      "source": [
        "What is the average of Temperature readings? (Heatmap of values)"
      ],
      "metadata": {
        "id": "m-0GqApKQDWX"
      }
    },
    {
      "cell_type": "code",
      "source": [
        "# basemap2= folium.Map(tiles = \"Stamen Terrain\",\n",
        "#               location = (lat,lon),min_zoom = 12)\n",
        "#heatmap:\n",
        "\n",
        "# temp = train_gdf.groupby(['site_latitude','site_longitude'])['temp_mean'].mean().reset_index()\n",
        "\n",
        "\n",
        "# HeatMap(data=temp[['site_latitude','site_longitude','temp_mean']].dropna(axis=0).values,\n",
        "#         radius=40,\n",
        "#         blur=15).add_to(basemap2)\n",
        "\n",
        "# basemap2"
      ],
      "metadata": {
        "execution": {
          "iopub.status.busy": "2022-09-25T10:38:05.211879Z",
          "iopub.status.idle": "2022-09-25T10:38:05.212340Z",
          "shell.execute_reply.started": "2022-09-25T10:38:05.212129Z",
          "shell.execute_reply": "2022-09-25T10:38:05.212149Z"
        },
        "trusted": true,
        "id": "gRIUzDD_QDWX"
      },
      "execution_count": 188,
      "outputs": []
    },
    {
      "cell_type": "markdown",
      "source": [
        "# Data preparation"
      ],
      "metadata": {
        "id": "9biPL81ARwkd"
      }
    },
    {
      "cell_type": "markdown",
      "source": [
        "**Creating clusters from the data**"
      ],
      "metadata": {
        "id": "u031unbOqTzH"
      }
    },
    {
      "cell_type": "code",
      "source": [
        "n_gmm_components = 4\n",
        "\n",
        "gmm_pipe = Pipeline(steps = [('scaling',StandardScaler()),\n",
        "                             ('gmm',GMM(n_components = n_gmm_components,\n",
        "                                        max_iter = 200))]\n",
        "                    )\n",
        "def gmm_clusters(train,test):\n",
        "  '''seperate the region into location clusters'''\n",
        "\n",
        "  combined_locations = train.append(test,\n",
        "                                   ignore_index=True)[['site_latitude','site_longitude']]\n",
        "\n",
        "  location_clusters = gmm_pipe.fit_predict(combined_locations)\n",
        "\n",
        "  location_probs = pd.DataFrame(gmm_pipe.predict_proba(combined_locations),\n",
        "                                columns = [f'cls_prob_{i}' for i in range(n_gmm_components)])\n",
        "\n",
        "\n",
        "\n",
        "  train['loc_cluster'] = location_clusters[:len(train)]\n",
        "  test['loc_cluster'] = location_clusters[len(train):]\n",
        "\n",
        "\n",
        "  train = pd.concat(objs=[train, location_probs.iloc[:len(train)]],\n",
        "                     axis=1)\n",
        "  \n",
        "\n",
        "  test = pd.concat(objs=[test, location_probs.iloc[len(train):].reset_index(drop=True)],\n",
        "                     axis=1)\n",
        "\n",
        "  return train,test \n",
        "\n",
        "\n",
        "train_df,test_df = gmm_clusters(train_df,test_df)\n",
        "\n",
        "train_df.shape,test_df.shape"
      ],
      "metadata": {
        "id": "-5aULoH2qYVa",
        "colab": {
          "base_uri": "https://localhost:8080/"
        },
        "outputId": "87cd6a07-be94-4bec-8b09-338820948ec4"
      },
      "execution_count": 189,
      "outputs": [
        {
          "output_type": "execute_result",
          "data": {
            "text/plain": [
              "((9923, 76), (4254, 75))"
            ]
          },
          "metadata": {},
          "execution_count": 189
        }
      ]
    },
    {
      "cell_type": "markdown",
      "source": [
        "**Creating Trend features**"
      ],
      "metadata": {
        "id": "ZIHLR5ugwf1k"
      }
    },
    {
      "cell_type": "code",
      "source": [
        "def trend_features(train,test):\n",
        "  '''create trend feeature for the datatset'''\n",
        "  combined = train.append(test,ignore_index=True)\n",
        "\n",
        "  for loc in combined.device.unique():\n",
        "    if loc in train.device.to_list():\n",
        "\n",
        "      subset = train[train.device==loc]\n",
        "      start = train.date.min()\n",
        "\n",
        "\n",
        "      diff = (subset.date - start).dt.days\n",
        "      train.loc[train.device==loc,'trend'] = diff \n",
        "\n",
        "    if loc in test.device.to_list() :\n",
        "      subset = test[test.device==loc]\n",
        "\n",
        "      if not start:\n",
        "        start = test.date.min()\n",
        "\n",
        "      diff = (subset.date - start).dt.days\n",
        "      test.loc[test.device==loc,'trend'] = diff\n",
        "\n",
        "  return train,test\n",
        "\n",
        "\n",
        "train_df,test_df = trend_features(train_df,test_df)"
      ],
      "metadata": {
        "id": "zfHSJCnBxDli"
      },
      "execution_count": 190,
      "outputs": []
    },
    {
      "cell_type": "code",
      "source": [
        "train_df.trend.plot(kind='hist',bins = 100,label = 'train-trend',color='g',title='distribution of trends',figsize=(10,6))\n",
        "test_df.trend.plot(kind='hist',bins = 100,label = 'test-trend',color='b')\n",
        "plt.legend()\n",
        "plt.show()"
      ],
      "metadata": {
        "colab": {
          "base_uri": "https://localhost:8080/",
          "height": 390
        },
        "id": "rdAIv1b71AcG",
        "outputId": "2e48a6d7-9e21-42a8-bf44-c2d01e00bf7c"
      },
      "execution_count": 191,
      "outputs": [
        {
          "output_type": "display_data",
          "data": {
            "text/plain": [
              "<Figure size 720x432 with 1 Axes>"
            ],
            "image/png": "[encoded data removed]"
          },
          "metadata": {
            "needs_background": "light"
          }
        }
      ]
    },
    {
      "cell_type": "markdown",
      "source": [
        "**seperating features**"
      ],
      "metadata": {
        "id": "C-_Q8E2FYWlj"
      }
    },
    {
      "cell_type": "code",
      "source": [
        "\n",
        "density_feat = [col for col in train_df.columns if 'density' in col]\n",
        "\n",
        "\n",
        "angle_feat = [col for col in train_df.columns if 'angle' in col]\n",
        "\n",
        "\n",
        "other_feat = [col for col in train_df.columns if col not in [*angle_feat,*density_feat]]\n",
        "other_feat.remove('pm2_5')\n"
      ],
      "metadata": {
        "id": "OiMHGQPxo8ch"
      },
      "execution_count": 192,
      "outputs": []
    },
    {
      "cell_type": "markdown",
      "source": [
        "**Strategy for filling up null values**\n"
      ],
      "metadata": {
        "id": "E5aaHjnoWDXT"
      }
    },
    {
      "cell_type": "code",
      "source": [
        "#temporal dist of missing values \n",
        "\n",
        "def missing_per(grp):\n",
        "  return grp.isnull().sum().sum() / grp.size\n",
        "\n",
        "train_df.groupby('date').apply(missing_per).plot(figsize=(20,8),title='temporal dist of null values ',label = 'prop of missing')\n",
        "train_df.groupby('date').apply(missing_per).rolling(window=20).mean().plot(linewidth=2,figsize=(20,8),label='rolling mean',color='k')\n",
        "plt.legend()\n",
        "plt.show()\n"
      ],
      "metadata": {
        "colab": {
          "base_uri": "https://localhost:8080/",
          "height": 447
        },
        "id": "aGIsn_SE3g-v",
        "outputId": "16497131-9886-42b5-e1ff-1b139bcd5e54"
      },
      "execution_count": 193,
      "outputs": [
        {
          "output_type": "display_data",
          "data": {
            "text/plain": [
              "<Figure size 1440x576 with 1 Axes>"
            ],
            "image/png": "[encoded data removed]"
          },
          "metadata": {
            "needs_background": "light"
          }
        }
      ]
    },
    {
      "cell_type": "code",
      "source": [
        "test_df.groupby('date').apply(missing_per).plot(figsize=(20,8),title='temporal dist of null values (test) ',label = 'prop of missing')\n",
        "test_df.groupby('date').apply(missing_per).rolling(window=20).mean().plot(linewidth=2,figsize=(20,8),label='rolling mean',color='k')\n",
        "plt.legend()\n",
        "plt.show()\n"
      ],
      "metadata": {
        "colab": {
          "base_uri": "https://localhost:8080/",
          "height": 447
        },
        "id": "G8zSpuSmvigB",
        "outputId": "0921589f-302d-49b5-fa7a-06b2fb9b4bcb"
      },
      "execution_count": 194,
      "outputs": [
        {
          "output_type": "display_data",
          "data": {
            "text/plain": [
              "<Figure size 1440x576 with 1 Axes>"
            ],
            "image/png": "[encoded data removed]"
          },
          "metadata": {
            "needs_background": "light"
          }
        }
      ]
    },
    {
      "cell_type": "markdown",
      "source": [
        "**Creating datetime features**"
      ],
      "metadata": {
        "id": "5iOpw_ba_chi"
      }
    },
    {
      "cell_type": "code",
      "source": [
        "def time_features(df,col):\n",
        "    '''extract features from time_stamps'''\n",
        "    df['year']=df[col].dt.year - 2018\n",
        "    df['month']=df[col].dt.month\n",
        "    \n",
        "    # df.drop(col,inplace=True,axis=1)\n",
        "    return df\n",
        "\n",
        "train_df=time_features(train_df,'date')\n",
        "test_df=time_features(test_df,'date')\n",
        "\n",
        "def time_encodings(df):\n",
        "    df['cos_'+'month']=np.cos(2.*np.pi*df['month']/12)\n",
        "    df['sin_'+'month']=np.sin(2.*np.pi*df['month']/12)\n",
        "    \n",
        "    # df['cos_'+'hour']=np.cos(2.*np.pi*df['hour']/12)\n",
        "    # df['sin_'+'hour']=np.sin(2.*np.pi*df['hour']/12)\n",
        "    \n",
        "    df.drop(['month'],axis=1,inplace=True)\n",
        "    \n",
        "    return df \n",
        "    \n",
        "train_df=time_encodings(train_df)\n",
        "test_df=time_encodings(test_df)\n",
        "\n",
        "train_df.shape,test_df.shape"
      ],
      "metadata": {
        "colab": {
          "base_uri": "https://localhost:8080/"
        },
        "id": "NR4KmHb7_am4",
        "outputId": "263e5f6d-4841-4849-a61f-357e868d3164"
      },
      "execution_count": 195,
      "outputs": [
        {
          "output_type": "execute_result",
          "data": {
            "text/plain": [
              "((9923, 80), (4254, 79))"
            ]
          },
          "metadata": {},
          "execution_count": 195
        }
      ]
    },
    {
      "cell_type": "markdown",
      "source": [
        "Marking the number of null entries in a row"
      ],
      "metadata": {
        "id": "_mfxeS8y_9h9"
      }
    },
    {
      "cell_type": "code",
      "source": [
        "def mark_null(df):\n",
        "  '''mark the number of columns null in a row'''\n",
        "  df['dens_nulls'] = df[density_feat].isnull().sum(axis=1) \n",
        "  df['ang_nulls'] = df[angle_feat].isnull().sum(axis=1) \n",
        "  df['othr_nulls'] = df[other_feat].isnull().sum(axis=1) \n",
        "\n",
        "  return df  \n",
        "\n",
        "\n",
        "\n",
        "train_df = mark_null(train_df)\n",
        "test_df = mark_null(test_df)"
      ],
      "metadata": {
        "id": "sbe-CWmvomJW"
      },
      "execution_count": 196,
      "outputs": []
    },
    {
      "cell_type": "code",
      "source": [
        "train_df.shape,test_df.shape"
      ],
      "metadata": {
        "colab": {
          "base_uri": "https://localhost:8080/"
        },
        "id": "OriePD8UnRIH",
        "outputId": "967f0e22-37c6-4303-8a65-24e1aad0b760"
      },
      "execution_count": 197,
      "outputs": [
        {
          "output_type": "execute_result",
          "data": {
            "text/plain": [
              "((9923, 83), (4254, 82))"
            ]
          },
          "metadata": {},
          "execution_count": 197
        }
      ]
    },
    {
      "cell_type": "markdown",
      "source": [
        "Filling null entries "
      ],
      "metadata": {
        "id": "Gx8XtediACX5"
      }
    },
    {
      "cell_type": "code",
      "source": [
        "def interpolate(group):\n",
        "  # group = group.reset_index()\n",
        "  try:\n",
        "\n",
        "    return group.interpolate(method=\"linear\", inplace=False, limit_direction=\"both\")\n",
        "\n",
        "  except Exception as e:\n",
        "    print(e)\n",
        "    return group"
      ],
      "metadata": {
        "id": "OYIRhhNHStL-"
      },
      "execution_count": 198,
      "outputs": []
    },
    {
      "cell_type": "code",
      "source": [
        "train_df.shape,test_df.shape"
      ],
      "metadata": {
        "colab": {
          "base_uri": "https://localhost:8080/"
        },
        "id": "Dh1_ufao07K3",
        "outputId": "c7889337-0aa7-47c1-d4d9-5aab49e69085"
      },
      "execution_count": 199,
      "outputs": [
        {
          "output_type": "execute_result",
          "data": {
            "text/plain": [
              "((9923, 83), (4254, 82))"
            ]
          },
          "metadata": {},
          "execution_count": 199
        }
      ]
    },
    {
      "cell_type": "markdown",
      "source": [
        "**Filling Null values with linear interpolation**"
      ],
      "metadata": {
        "id": "hRw80bj_03EI"
      }
    },
    {
      "cell_type": "code",
      "source": [
        "linintp_train = pd.DataFrame()\n",
        "\n",
        "for idx,grp in train_df.groupby('device'):\n",
        "  grp = grp.reset_index(drop=True)\n",
        "  grp=grp.sort_values(by='date')\n",
        "\n",
        "  grp.interpolate(method=\"bfill\", inplace=True)\n",
        "  grp.interpolate(method=\"ffill\", inplace=True)\n",
        "  linintp_train = linintp_train.append(grp,\n",
        "                         ignore_index=True)\n",
        "  \n",
        "\n",
        "linintp_train.isnull().sum().sum()"
      ],
      "metadata": {
        "colab": {
          "base_uri": "https://localhost:8080/"
        },
        "id": "VGi7keNfh5hf",
        "outputId": "339f7605-ada7-476a-9ea7-0c2667ad3c8c"
      },
      "execution_count": 200,
      "outputs": [
        {
          "output_type": "execute_result",
          "data": {
            "text/plain": [
              "0"
            ]
          },
          "metadata": {},
          "execution_count": 200
        }
      ]
    },
    {
      "cell_type": "code",
      "source": [
        "linintp_test = pd.DataFrame()\n",
        "\n",
        "\n",
        "for idx,grp in test_df.groupby('device'):\n",
        "\n",
        "  grp = grp.reset_index()\n",
        "\n",
        "  grp.sort_values(by='date',inplace=True)\n",
        "\n",
        "  grp.interpolate(method=\"bfill\", inplace=True)\n",
        "  grp.interpolate(method=\"ffill\", inplace=True)\n",
        "  linintp_test = linintp_test.append(grp,\n",
        "                         ignore_index=True)\n",
        "  \n",
        "\n",
        "linintp_test.isnull().sum().sum()"
      ],
      "metadata": {
        "colab": {
          "base_uri": "https://localhost:8080/"
        },
        "id": "ap3emGz4mew8",
        "outputId": "baaa3a81-a9bc-461c-f030-98b0307bed6c"
      },
      "execution_count": 201,
      "outputs": [
        {
          "output_type": "execute_result",
          "data": {
            "text/plain": [
              "87"
            ]
          },
          "metadata": {},
          "execution_count": 201
        }
      ]
    },
    {
      "cell_type": "markdown",
      "source": [
        "**filling the rest values by ffill and bfill**"
      ],
      "metadata": {
        "id": "QaXTuzRDobwl"
      }
    },
    {
      "cell_type": "code",
      "source": [
        "linintp_test.sort_values(by='date',inplace=True)\n",
        "linintp_test = linintp_test.ffill().bfill()"
      ],
      "metadata": {
        "id": "x7pL_gdf8RWM"
      },
      "execution_count": 203,
      "outputs": []
    },
    {
      "cell_type": "markdown",
      "source": [
        "**reducing the dimensionality with PCA**"
      ],
      "metadata": {
        "id": "HAR-urR5iNun"
      }
    },
    {
      "cell_type": "code",
      "source": [
        "from sklearn.decomposition import PCA\n",
        "pca_pipeline = Pipeline(steps = [('standard_scaler',StandardScaler()),\n",
        "                                 ('pca',PCA(n_components=2))\n",
        "                                 ]\n",
        "                       )\n",
        "\n",
        "\n",
        "def calculate_index(\n",
        "               columns_names,\n",
        "               df,\n",
        "               print_lambda=True):\n",
        "    '''calculate indexes, by sum after multiplying the pc1 with features in that index. '''\n",
        "    \n",
        "    col_df = df.loc[:,columns_names]\n",
        "    \n",
        "    pca = pca_pipeline.fit_transform(col_df)\n",
        "    \n",
        "    \n",
        "    if print_lambda :\n",
        "        eig_vec = pca_pipeline['pca'].components_\n",
        "        total_var_ratio = pca_pipeline['pca'].explained_variance_ratio_.sum()\n",
        "        print(f'total explained variance is {total_var_ratio} % of original')\n",
        "        \n",
        "        print('first pc index = ' + ' + \\n'.join(['*'.join([str(round(val,3)) , column]) for val,column in zip(list(eig_vec[0,:]),col_df.columns.tolist())]) )\n",
        "        \n",
        "    assert len(pca) == len(col_df), 'Why do you make life hard for everyone'\n",
        "    \n",
        "    \n",
        "    return pca"
      ],
      "metadata": {
        "id": "JvGHCHXHiSbX"
      },
      "execution_count": 206,
      "outputs": []
    },
    {
      "cell_type": "markdown",
      "source": [
        "## Model training with Layer"
      ],
      "metadata": {
        "id": "a1d38ce0-45da-40f1-9322-ed1b22e5aaff"
      }
    },
    {
      "cell_type": "code",
      "source": [
        "@model(\"air_model\")\n",
        "@pip_requirements(packages=[\"lightgbm\",\"seaborn\"])\n",
        "def train():\n",
        "    \n",
        "    # Imports \n",
        "    from sklearn.model_selection import train_test_split\n",
        "    import lightgbm as lgb\n",
        "    from sklearn import metrics\n",
        "    import numpy as np\n",
        "    import pandas as pd\n",
        "    from sklearn.preprocessing import LabelEncoder\n",
        "    import matplotlib.pyplot as plt\n",
        "    import seaborn as sns\n",
        "    \n",
        "    # CONFIG\n",
        "    test_size = 0.25\n",
        "    random_state = 0\n",
        "    layer.log({\"test_size\":test_size})\n",
        "    layer.log({\"random_state\":random_state})\n",
        "    \n",
        "    date_mask = linintp_train.date > '06-01-2020'\n",
        "    X = linintp_train.drop([\"pm2_5\", \"ID\",\"date\"], axis=1)\n",
        "\n",
        "    labelencoder = LabelEncoder()\n",
        "    X = X.assign(device = labelencoder.fit_transform(X[\"device\"]))\n",
        "    y = train_df[\"pm2_5\"]\n",
        "\n",
        "\n",
        "    X_train,y_train = X[~date_mask],y[~date_mask]\n",
        "\n",
        "    X_test,y_test = X[date_mask],y[date_mask]\n",
        "    \n",
        "    lgb_train = lgb.Dataset(X_train, \n",
        "                            y_train)\n",
        "    \n",
        "    lgb_eval = lgb.Dataset(X_test, \n",
        "                           y_test, \n",
        "                           reference=lgb_train)\n",
        "    \n",
        "    params = {'boosting_type': 'dart',\n",
        "              'objective': 'regression',\n",
        "              'learning_rate': 0.05,\n",
        "              'feature_fraction': 0.6,\n",
        "              'lambda_l1':10\n",
        "              }\n",
        "    \n",
        "    layer.log(params)\n",
        "    \n",
        "    \n",
        "    categories = X.select_dtypes(include=['object']).columns.tolist() \n",
        "    feature_name = list(X.columns)\n",
        "    evals={}\n",
        "    gbm = lgb.train(\n",
        "                params,\n",
        "                lgb_train,\n",
        "                num_boost_round=1000,\n",
        "                callbacks = [lgb.record_evaluation(evals)],\n",
        "                valid_sets=[lgb_train, lgb_eval],\n",
        "                valid_names=['train','valid']\n",
        "    )\n",
        "    \n",
        "    \n",
        "    predictions = gbm.predict(X_test)\n",
        "    predctions_df = pd.DataFrame(predictions,columns=['Predicted pm2_5'])\n",
        "    layer.log({\"Sample predictions\":predctions_df.head(100)})\n",
        "    layer.log({'Mean Absolute Error':metrics.mean_absolute_error(y_test, predictions)})\n",
        "    layer.log({'Mean Squarred Error': metrics.mean_squared_error(y_test, predictions)})\n",
        "    layer.log({'Root Mean Squared Error': np.sqrt(metrics.mean_squared_error(y_test, predictions))})\n",
        "\n",
        "    importance = gbm.feature_importance()\n",
        "    importances_rfc_df = pd.DataFrame(importance, index=X.columns, columns=['Importance'])\n",
        "    importances_rfc_df = importances_rfc_df.sort_values(by='Importance', ascending=False)\n",
        "    importances_rfc_df = importances_rfc_df[importances_rfc_df['Importance'] > 0]\n",
        "    importances_rfc_df = importances_rfc_df.head(10)\n",
        "\n",
        "    plt.figure(figsize=(8,8))\n",
        "    plt.xticks(rotation=60, fontsize = 20)\n",
        "    sns.barplot(y=importances_rfc_df.index, x=importances_rfc_df['Importance'])\n",
        "    layer.log({\"Feature importance\": plt.gcf()})\n",
        "    layer.log({\"Training metrics\": lgb.plot_metric(evals)})\n",
        "    return gbm\n",
        "    "
      ],
      "metadata": {
        "id": "cc9d696b-d420-4f85-92a5-f45b28251aa2",
        "execution": {
          "iopub.status.busy": "2022-09-25T10:38:05.214750Z",
          "iopub.status.idle": "2022-09-25T10:38:05.215196Z",
          "shell.execute_reply.started": "2022-09-25T10:38:05.214979Z",
          "shell.execute_reply": "2022-09-25T10:38:05.214998Z"
        },
        "trusted": true
      },
      "execution_count": 224,
      "outputs": []
    },
    {
      "cell_type": "code",
      "source": [
        "# Imports \n",
        "from sklearn.model_selection import train_test_split\n",
        "import lightgbm as lgb\n",
        "from sklearn import metrics\n",
        "import numpy as np\n",
        "import pandas as pd\n",
        "from sklearn.preprocessing import LabelEncoder\n",
        "import matplotlib.pyplot as plt\n",
        "import seaborn as sns\n",
        "\n",
        "# CONFIG\n",
        "test_size = 0.25\n",
        "random_state = 0\n",
        "# \n",
        "\n",
        "date_mask = linintp_train.date > '06-01-2020'\n",
        "X = linintp_train.drop([\"pm2_5\", \"ID\",\"date\"], axis=1)\n",
        "\n",
        "labelencoder = LabelEncoder()\n",
        "X = X.assign(device = labelencoder.fit_transform(X[\"device\"]))\n",
        "\n",
        "y = train_df[\"pm2_5\"]\n",
        "\n",
        "\n",
        "X_train,y_train = X[~date_mask],y[~date_mask]\n",
        "X_test,y_test = X[date_mask],y[date_mask]\n",
        "\n",
        "lgb_train = lgb.Dataset(X, \n",
        "                        y)\n",
        "\n",
        "lgb_eval = lgb.Dataset(X_test, \n",
        "                        y_test, \n",
        "                        reference=lgb_train)\n",
        "\n",
        "params = {'boosting_type': 'dart',\n",
        "          'objective': 'regression',\n",
        "          'learning_rate': 0.05,\n",
        "          'feature_fraction': 0.65\n",
        "          }\n",
        "\n",
        "\n",
        "\n",
        "categories = X.select_dtypes(include=['object']).columns.tolist() \n",
        "feature_name = list(X.columns)\n",
        "evals={}\n",
        "gbm = lgb.train(\n",
        "            params,\n",
        "            lgb_train,\n",
        "            num_boost_round=1000,\n",
        "            callbacks = [lgb.record_evaluation(evals)],\n",
        "            valid_sets=[lgb_train, lgb_eval],\n",
        "            valid_names=['train','valid']\n",
        ")\n",
        "\n",
        "\n",
        "predictions = gbm.predict(X_test)\n",
        "predctions_df = pd.DataFrame(predictions,columns=['Predicted pm2_5'])"
      ],
      "metadata": {
        "colab": {
          "base_uri": "https://localhost:8080/"
        },
        "id": "3T2WqUeNwDyS",
        "outputId": "eba08daf-67b9-4b84-9410-4707189ed842"
      },
      "execution_count": 228,
      "outputs": [
        {
          "output_type": "stream",
          "name": "stdout",
          "text": [
            "[1]\ttrain's l2: 762.96\tvalid's l2: 724.929\n",
            "[2]\ttrain's l2: 760.327\tvalid's l2: 724.881\n",
            "[3]\ttrain's l2: 757.209\tvalid's l2: 724.744\n",
            "[4]\ttrain's l2: 754.033\tvalid's l2: 725.228\n",
            "[5]\ttrain's l2: 750.76\tvalid's l2: 725.58\n",
            "[6]\ttrain's l2: 747.927\tvalid's l2: 726.103\n",
            "[7]\ttrain's l2: 744.852\tvalid's l2: 726.084\n",
            "[8]\ttrain's l2: 745.751\tvalid's l2: 725.922\n",
            "[9]\ttrain's l2: 742.724\tvalid's l2: 726.207\n",
            "[10]\ttrain's l2: 740.05\tvalid's l2: 726.622\n",
            "[11]\ttrain's l2: 737.428\tvalid's l2: 726.529\n",
            "[12]\ttrain's l2: 738.395\tvalid's l2: 726.363\n",
            "[13]\ttrain's l2: 735.776\tvalid's l2: 726.534\n",
            "[14]\ttrain's l2: 733.485\tvalid's l2: 726.859\n",
            "[15]\ttrain's l2: 730.549\tvalid's l2: 727.102\n",
            "[16]\ttrain's l2: 727.755\tvalid's l2: 727.306\n",
            "[17]\ttrain's l2: 725.417\tvalid's l2: 727.349\n",
            "[18]\ttrain's l2: 723.25\tvalid's l2: 727.722\n",
            "[19]\ttrain's l2: 721.07\tvalid's l2: 727.99\n",
            "[20]\ttrain's l2: 718.833\tvalid's l2: 728.379\n",
            "[21]\ttrain's l2: 719.33\tvalid's l2: 728.114\n",
            "[22]\ttrain's l2: 717.155\tvalid's l2: 727.892\n",
            "[23]\ttrain's l2: 714.96\tvalid's l2: 727.845\n",
            "[24]\ttrain's l2: 712.575\tvalid's l2: 727.96\n",
            "[25]\ttrain's l2: 710.786\tvalid's l2: 728.082\n",
            "[26]\ttrain's l2: 708.471\tvalid's l2: 728.581\n",
            "[27]\ttrain's l2: 706.368\tvalid's l2: 728.917\n",
            "[28]\ttrain's l2: 707.084\tvalid's l2: 728.856\n",
            "[29]\ttrain's l2: 705.058\tvalid's l2: 729.179\n",
            "[30]\ttrain's l2: 703.1\tvalid's l2: 729.826\n",
            "[31]\ttrain's l2: 703.315\tvalid's l2: 729.334\n",
            "[32]\ttrain's l2: 700.939\tvalid's l2: 729.597\n",
            "[33]\ttrain's l2: 698.442\tvalid's l2: 729.637\n",
            "[34]\ttrain's l2: 696.67\tvalid's l2: 729.271\n",
            "[35]\ttrain's l2: 697.513\tvalid's l2: 729.298\n",
            "[36]\ttrain's l2: 699.001\tvalid's l2: 729.132\n",
            "[37]\ttrain's l2: 696.758\tvalid's l2: 729.661\n",
            "[38]\ttrain's l2: 694.714\tvalid's l2: 730.257\n",
            "[39]\ttrain's l2: 692.803\tvalid's l2: 730.311\n",
            "[40]\ttrain's l2: 692.252\tvalid's l2: 730.317\n",
            "[41]\ttrain's l2: 693.394\tvalid's l2: 730.115\n",
            "[42]\ttrain's l2: 691.151\tvalid's l2: 730.552\n",
            "[43]\ttrain's l2: 692.28\tvalid's l2: 730.364\n",
            "[44]\ttrain's l2: 690.464\tvalid's l2: 731.452\n",
            "[45]\ttrain's l2: 688.932\tvalid's l2: 731.617\n",
            "[46]\ttrain's l2: 736.5\tvalid's l2: 764.411\n",
            "[47]\ttrain's l2: 729.902\tvalid's l2: 760.673\n",
            "[48]\ttrain's l2: 727.743\tvalid's l2: 758.661\n",
            "[49]\ttrain's l2: 728.124\tvalid's l2: 757.798\n",
            "[50]\ttrain's l2: 729.379\tvalid's l2: 757.683\n",
            "[51]\ttrain's l2: 723.413\tvalid's l2: 754.414\n",
            "[52]\ttrain's l2: 718.066\tvalid's l2: 751.965\n",
            "[53]\ttrain's l2: 719.318\tvalid's l2: 752.303\n",
            "[54]\ttrain's l2: 714.373\tvalid's l2: 749.991\n",
            "[55]\ttrain's l2: 709.429\tvalid's l2: 748.799\n",
            "[56]\ttrain's l2: 710.776\tvalid's l2: 748.771\n",
            "[57]\ttrain's l2: 706.337\tvalid's l2: 746.771\n",
            "[58]\ttrain's l2: 818.733\tvalid's l2: 847.285\n",
            "[59]\ttrain's l2: 818.898\tvalid's l2: 846.54\n",
            "[60]\ttrain's l2: 803.83\tvalid's l2: 834.201\n",
            "[61]\ttrain's l2: 964.493\tvalid's l2: 985.6\n",
            "[62]\ttrain's l2: 935.487\tvalid's l2: 959.644\n",
            "[63]\ttrain's l2: 908.855\tvalid's l2: 935.738\n",
            "[64]\ttrain's l2: 905.348\tvalid's l2: 931.163\n",
            "[65]\ttrain's l2: 907.424\tvalid's l2: 932.488\n",
            "[66]\ttrain's l2: 883.238\tvalid's l2: 911.545\n",
            "[67]\ttrain's l2: 861.675\tvalid's l2: 891.894\n",
            "[68]\ttrain's l2: 841.954\tvalid's l2: 874.512\n",
            "[69]\ttrain's l2: 842.304\tvalid's l2: 873.54\n",
            "[70]\ttrain's l2: 841.031\tvalid's l2: 871.662\n",
            "[71]\ttrain's l2: 837.713\tvalid's l2: 868.397\n",
            "[72]\ttrain's l2: 820.511\tvalid's l2: 853.867\n",
            "[73]\ttrain's l2: 804.209\tvalid's l2: 840.745\n",
            "[74]\ttrain's l2: 806.174\tvalid's l2: 841.594\n",
            "[75]\ttrain's l2: 791.246\tvalid's l2: 829.694\n",
            "[76]\ttrain's l2: 791.826\tvalid's l2: 830.223\n",
            "[77]\ttrain's l2: 792.787\tvalid's l2: 830.115\n",
            "[78]\ttrain's l2: 794.305\tvalid's l2: 830.668\n",
            "[79]\ttrain's l2: 781.042\tvalid's l2: 820.399\n",
            "[80]\ttrain's l2: 768.648\tvalid's l2: 810.897\n",
            "[81]\ttrain's l2: 771.468\tvalid's l2: 812.942\n",
            "[82]\ttrain's l2: 759.875\tvalid's l2: 803.783\n",
            "[83]\ttrain's l2: 762.849\tvalid's l2: 805.493\n",
            "[84]\ttrain's l2: 764.749\tvalid's l2: 805.866\n",
            "[85]\ttrain's l2: 768.26\tvalid's l2: 808.285\n",
            "[86]\ttrain's l2: 757.346\tvalid's l2: 800.224\n",
            "[87]\ttrain's l2: 747.13\tvalid's l2: 793.375\n",
            "[88]\ttrain's l2: 750.623\tvalid's l2: 795.355\n",
            "[89]\ttrain's l2: 750.581\tvalid's l2: 794.731\n",
            "[90]\ttrain's l2: 753.934\tvalid's l2: 796.721\n",
            "[91]\ttrain's l2: 869.378\tvalid's l2: 903.069\n",
            "[92]\ttrain's l2: 848.247\tvalid's l2: 884.726\n",
            "[93]\ttrain's l2: 829.029\tvalid's l2: 867.599\n",
            "[94]\ttrain's l2: 835.99\tvalid's l2: 873.194\n",
            "[95]\ttrain's l2: 837.909\tvalid's l2: 874.277\n",
            "[96]\ttrain's l2: 841.8\tvalid's l2: 877.411\n",
            "[97]\ttrain's l2: 823.476\tvalid's l2: 861.702\n",
            "[98]\ttrain's l2: 824.821\tvalid's l2: 862.517\n",
            "[99]\ttrain's l2: 808.181\tvalid's l2: 848.525\n",
            "[100]\ttrain's l2: 793.15\tvalid's l2: 836.116\n",
            "[101]\ttrain's l2: 850.687\tvalid's l2: 888.499\n",
            "[102]\ttrain's l2: 856.278\tvalid's l2: 893.026\n",
            "[103]\ttrain's l2: 861.613\tvalid's l2: 897.218\n",
            "[104]\ttrain's l2: 841.068\tvalid's l2: 879.683\n",
            "[105]\ttrain's l2: 899.095\tvalid's l2: 933.353\n",
            "[106]\ttrain's l2: 902.597\tvalid's l2: 935.821\n",
            "[107]\ttrain's l2: 909.09\tvalid's l2: 941.213\n",
            "[108]\ttrain's l2: 884.299\tvalid's l2: 917.605\n",
            "[109]\ttrain's l2: 888.288\tvalid's l2: 920.549\n",
            "[110]\ttrain's l2: 891.747\tvalid's l2: 923.031\n",
            "[111]\ttrain's l2: 868.202\tvalid's l2: 903.564\n",
            "[112]\ttrain's l2: 846.578\tvalid's l2: 885.885\n",
            "[113]\ttrain's l2: 827.229\tvalid's l2: 869.465\n",
            "[114]\ttrain's l2: 810.015\tvalid's l2: 854.646\n",
            "[115]\ttrain's l2: 794.198\tvalid's l2: 840.465\n",
            "[116]\ttrain's l2: 779.36\tvalid's l2: 828.963\n",
            "[117]\ttrain's l2: 783.044\tvalid's l2: 831.766\n",
            "[118]\ttrain's l2: 769.305\tvalid's l2: 820.798\n",
            "[119]\ttrain's l2: 772.753\tvalid's l2: 823.121\n",
            "[120]\ttrain's l2: 777.101\tvalid's l2: 826.449\n",
            "[121]\ttrain's l2: 781.502\tvalid's l2: 829.567\n",
            "[122]\ttrain's l2: 786.373\tvalid's l2: 833.042\n",
            "[123]\ttrain's l2: 772.552\tvalid's l2: 821.894\n",
            "[124]\ttrain's l2: 759.934\tvalid's l2: 811.75\n",
            "[125]\ttrain's l2: 762.753\tvalid's l2: 813.607\n",
            "[126]\ttrain's l2: 766.29\tvalid's l2: 816.09\n",
            "[127]\ttrain's l2: 754.546\tvalid's l2: 806.827\n",
            "[128]\ttrain's l2: 758.923\tvalid's l2: 810.212\n",
            "[129]\ttrain's l2: 747.453\tvalid's l2: 801.413\n",
            "[130]\ttrain's l2: 737.151\tvalid's l2: 793.376\n",
            "[131]\ttrain's l2: 742.144\tvalid's l2: 797.165\n",
            "[132]\ttrain's l2: 732.018\tvalid's l2: 790.87\n",
            "[133]\ttrain's l2: 722.78\tvalid's l2: 784.058\n",
            "[134]\ttrain's l2: 758.407\tvalid's l2: 815.609\n",
            "[135]\ttrain's l2: 746.872\tvalid's l2: 806.386\n",
            "[136]\ttrain's l2: 799.278\tvalid's l2: 853.802\n",
            "[137]\ttrain's l2: 804.481\tvalid's l2: 858.055\n",
            "[138]\ttrain's l2: 787.925\tvalid's l2: 844.399\n",
            "[139]\ttrain's l2: 772.876\tvalid's l2: 832.497\n",
            "[140]\ttrain's l2: 779.176\tvalid's l2: 837.254\n",
            "[141]\ttrain's l2: 783.764\tvalid's l2: 840.831\n",
            "[142]\ttrain's l2: 788.917\tvalid's l2: 844.761\n",
            "[143]\ttrain's l2: 774.143\tvalid's l2: 832.607\n",
            "[144]\ttrain's l2: 777.793\tvalid's l2: 835.158\n",
            "[145]\ttrain's l2: 763.951\tvalid's l2: 824.679\n",
            "[146]\ttrain's l2: 770.049\tvalid's l2: 829.401\n",
            "[147]\ttrain's l2: 776.753\tvalid's l2: 834.687\n",
            "[148]\ttrain's l2: 782.143\tvalid's l2: 839.003\n",
            "[149]\ttrain's l2: 768.11\tvalid's l2: 827.581\n",
            "[150]\ttrain's l2: 755.201\tvalid's l2: 817.419\n",
            "[151]\ttrain's l2: 782.22\tvalid's l2: 841.325\n",
            "[152]\ttrain's l2: 814.645\tvalid's l2: 870.69\n",
            "[153]\ttrain's l2: 797.535\tvalid's l2: 856.528\n",
            "[154]\ttrain's l2: 801.835\tvalid's l2: 859.936\n",
            "[155]\ttrain's l2: 785.478\tvalid's l2: 846.243\n",
            "[156]\ttrain's l2: 792.767\tvalid's l2: 851.954\n",
            "[157]\ttrain's l2: 796.563\tvalid's l2: 855.122\n",
            "[158]\ttrain's l2: 803.651\tvalid's l2: 860.794\n",
            "[159]\ttrain's l2: 810.784\tvalid's l2: 866.6\n",
            "[160]\ttrain's l2: 816.947\tvalid's l2: 871.227\n",
            "[161]\ttrain's l2: 799.434\tvalid's l2: 856.597\n",
            "[162]\ttrain's l2: 802.551\tvalid's l2: 858.886\n",
            "[163]\ttrain's l2: 786.245\tvalid's l2: 845.419\n",
            "[164]\ttrain's l2: 771.535\tvalid's l2: 833.387\n",
            "[165]\ttrain's l2: 757.966\tvalid's l2: 822.092\n",
            "[166]\ttrain's l2: 745.556\tvalid's l2: 812.674\n",
            "[167]\ttrain's l2: 734.437\tvalid's l2: 805.361\n",
            "[168]\ttrain's l2: 724.191\tvalid's l2: 797.564\n",
            "[169]\ttrain's l2: 714.575\tvalid's l2: 790.626\n",
            "[170]\ttrain's l2: 736.041\tvalid's l2: 809.308\n",
            "[171]\ttrain's l2: 725.132\tvalid's l2: 801.029\n",
            "[172]\ttrain's l2: 747.358\tvalid's l2: 820.558\n",
            "[173]\ttrain's l2: 735.542\tvalid's l2: 809.985\n",
            "[174]\ttrain's l2: 724.715\tvalid's l2: 802.492\n",
            "[175]\ttrain's l2: 714.685\tvalid's l2: 795.336\n",
            "[176]\ttrain's l2: 719.066\tvalid's l2: 798.709\n",
            "[177]\ttrain's l2: 723.949\tvalid's l2: 802.379\n",
            "[178]\ttrain's l2: 728.05\tvalid's l2: 805.344\n",
            "[179]\ttrain's l2: 717.712\tvalid's l2: 798.198\n",
            "[180]\ttrain's l2: 722.24\tvalid's l2: 801.615\n",
            "[181]\ttrain's l2: 712.625\tvalid's l2: 793.69\n",
            "[182]\ttrain's l2: 703.736\tvalid's l2: 787.889\n",
            "[183]\ttrain's l2: 695.826\tvalid's l2: 781.586\n",
            "[184]\ttrain's l2: 687.959\tvalid's l2: 776.626\n",
            "[185]\ttrain's l2: 693.698\tvalid's l2: 780.607\n",
            "[186]\ttrain's l2: 686.171\tvalid's l2: 775.726\n",
            "[187]\ttrain's l2: 679.412\tvalid's l2: 771.625\n",
            "[188]\ttrain's l2: 673.158\tvalid's l2: 766.645\n",
            "[189]\ttrain's l2: 677.123\tvalid's l2: 769.255\n",
            "[190]\ttrain's l2: 681.146\tvalid's l2: 771.953\n",
            "[191]\ttrain's l2: 674.813\tvalid's l2: 767.554\n",
            "[192]\ttrain's l2: 668.922\tvalid's l2: 763.583\n",
            "[193]\ttrain's l2: 663.363\tvalid's l2: 761.521\n",
            "[194]\ttrain's l2: 667.074\tvalid's l2: 764.066\n",
            "[195]\ttrain's l2: 670.582\tvalid's l2: 766.441\n",
            "[196]\ttrain's l2: 665.343\tvalid's l2: 762.865\n",
            "[197]\ttrain's l2: 667.98\tvalid's l2: 764.472\n",
            "[198]\ttrain's l2: 671.591\tvalid's l2: 766.873\n",
            "[199]\ttrain's l2: 665.644\tvalid's l2: 763.853\n",
            "[200]\ttrain's l2: 670.16\tvalid's l2: 767.047\n",
            "[201]\ttrain's l2: 674.566\tvalid's l2: 770.081\n",
            "[202]\ttrain's l2: 678.872\tvalid's l2: 772.945\n",
            "[203]\ttrain's l2: 672.794\tvalid's l2: 768.904\n",
            "[204]\ttrain's l2: 676.124\tvalid's l2: 771.031\n",
            "[205]\ttrain's l2: 693.364\tvalid's l2: 785.817\n",
            "[206]\ttrain's l2: 685.584\tvalid's l2: 780.652\n",
            "[207]\ttrain's l2: 689.462\tvalid's l2: 783.417\n",
            "[208]\ttrain's l2: 681.86\tvalid's l2: 778.35\n",
            "[209]\ttrain's l2: 686.243\tvalid's l2: 781.187\n",
            "[210]\ttrain's l2: 689.695\tvalid's l2: 783.618\n",
            "[211]\ttrain's l2: 694.042\tvalid's l2: 786.79\n",
            "[212]\ttrain's l2: 686.456\tvalid's l2: 780.808\n",
            "[213]\ttrain's l2: 679.431\tvalid's l2: 775.611\n",
            "[214]\ttrain's l2: 672.855\tvalid's l2: 771.754\n",
            "[215]\ttrain's l2: 666.936\tvalid's l2: 767.588\n",
            "[216]\ttrain's l2: 670.354\tvalid's l2: 769.807\n",
            "[217]\ttrain's l2: 664.542\tvalid's l2: 766.093\n",
            "[218]\ttrain's l2: 659.015\tvalid's l2: 762.923\n",
            "[219]\ttrain's l2: 671.333\tvalid's l2: 773.356\n",
            "[220]\ttrain's l2: 665.369\tvalid's l2: 768.947\n",
            "[221]\ttrain's l2: 669.413\tvalid's l2: 771.633\n",
            "[222]\ttrain's l2: 663.302\tvalid's l2: 767.043\n",
            "[223]\ttrain's l2: 657.719\tvalid's l2: 763.68\n",
            "[224]\ttrain's l2: 661.337\tvalid's l2: 765.958\n",
            "[225]\ttrain's l2: 665.729\tvalid's l2: 768.911\n",
            "[226]\ttrain's l2: 669.198\tvalid's l2: 771.164\n",
            "[227]\ttrain's l2: 671.889\tvalid's l2: 772.827\n",
            "[228]\ttrain's l2: 665.531\tvalid's l2: 767.965\n",
            "[229]\ttrain's l2: 668.815\tvalid's l2: 770.172\n",
            "[230]\ttrain's l2: 662.642\tvalid's l2: 766.614\n",
            "[231]\ttrain's l2: 656.913\tvalid's l2: 763.754\n",
            "[232]\ttrain's l2: 651.235\tvalid's l2: 760.828\n",
            "[233]\ttrain's l2: 654.458\tvalid's l2: 762.848\n",
            "[234]\ttrain's l2: 649.105\tvalid's l2: 758.888\n",
            "[235]\ttrain's l2: 652.417\tvalid's l2: 761.014\n",
            "[236]\ttrain's l2: 647.805\tvalid's l2: 758.099\n",
            "[237]\ttrain's l2: 643.362\tvalid's l2: 755.278\n",
            "[238]\ttrain's l2: 638.601\tvalid's l2: 752.944\n",
            "[239]\ttrain's l2: 634.633\tvalid's l2: 750.658\n",
            "[240]\ttrain's l2: 630.793\tvalid's l2: 749.203\n",
            "[241]\ttrain's l2: 633.888\tvalid's l2: 750.828\n",
            "[242]\ttrain's l2: 630.227\tvalid's l2: 748.986\n",
            "[243]\ttrain's l2: 633.143\tvalid's l2: 750.446\n",
            "[244]\ttrain's l2: 642.458\tvalid's l2: 757.483\n",
            "[245]\ttrain's l2: 638.053\tvalid's l2: 755.023\n",
            "[246]\ttrain's l2: 633.962\tvalid's l2: 752.835\n",
            "[247]\ttrain's l2: 630.237\tvalid's l2: 750.624\n",
            "[248]\ttrain's l2: 633.328\tvalid's l2: 752.381\n",
            "[249]\ttrain's l2: 635.888\tvalid's l2: 753.814\n",
            "[250]\ttrain's l2: 631.99\tvalid's l2: 751.692\n",
            "[251]\ttrain's l2: 635.192\tvalid's l2: 753.606\n",
            "[252]\ttrain's l2: 637.911\tvalid's l2: 755.055\n",
            "[253]\ttrain's l2: 633.563\tvalid's l2: 752.727\n",
            "[254]\ttrain's l2: 629.607\tvalid's l2: 750.881\n",
            "[255]\ttrain's l2: 625.803\tvalid's l2: 748.847\n",
            "[256]\ttrain's l2: 622.183\tvalid's l2: 747.153\n",
            "[257]\ttrain's l2: 618.95\tvalid's l2: 746.048\n",
            "[258]\ttrain's l2: 616.023\tvalid's l2: 744.847\n",
            "[259]\ttrain's l2: 618.575\tvalid's l2: 746.15\n",
            "[260]\ttrain's l2: 621.397\tvalid's l2: 747.682\n",
            "[261]\ttrain's l2: 623.907\tvalid's l2: 749.027\n",
            "[262]\ttrain's l2: 620.653\tvalid's l2: 747.621\n",
            "[263]\ttrain's l2: 617.118\tvalid's l2: 746.223\n",
            "[264]\ttrain's l2: 614.112\tvalid's l2: 744.963\n",
            "[265]\ttrain's l2: 610.969\tvalid's l2: 744.183\n",
            "[266]\ttrain's l2: 608.357\tvalid's l2: 743.232\n",
            "[267]\ttrain's l2: 610.543\tvalid's l2: 744.249\n",
            "[268]\ttrain's l2: 607.835\tvalid's l2: 743.133\n",
            "[269]\ttrain's l2: 610.212\tvalid's l2: 744.274\n",
            "[270]\ttrain's l2: 607.639\tvalid's l2: 743.604\n",
            "[271]\ttrain's l2: 610.067\tvalid's l2: 744.789\n",
            "[272]\ttrain's l2: 607.303\tvalid's l2: 743.69\n",
            "[273]\ttrain's l2: 604.207\tvalid's l2: 743.036\n",
            "[274]\ttrain's l2: 606.252\tvalid's l2: 743.892\n",
            "[275]\ttrain's l2: 603.723\tvalid's l2: 743.136\n",
            "[276]\ttrain's l2: 606.201\tvalid's l2: 744.231\n",
            "[277]\ttrain's l2: 603.576\tvalid's l2: 743.114\n",
            "[278]\ttrain's l2: 605.514\tvalid's l2: 743.934\n",
            "[279]\ttrain's l2: 602.993\tvalid's l2: 743.197\n",
            "[280]\ttrain's l2: 605.161\tvalid's l2: 744.122\n",
            "[281]\ttrain's l2: 611.695\tvalid's l2: 748.729\n",
            "[282]\ttrain's l2: 608.491\tvalid's l2: 747.638\n",
            "[283]\ttrain's l2: 610.828\tvalid's l2: 748.797\n",
            "[284]\ttrain's l2: 607.731\tvalid's l2: 747.466\n",
            "[285]\ttrain's l2: 604.998\tvalid's l2: 745.839\n",
            "[286]\ttrain's l2: 601.99\tvalid's l2: 745.045\n",
            "[287]\ttrain's l2: 599.155\tvalid's l2: 744.118\n",
            "[288]\ttrain's l2: 601.492\tvalid's l2: 745.236\n",
            "[289]\ttrain's l2: 598.613\tvalid's l2: 744.244\n",
            "[290]\ttrain's l2: 596.23\tvalid's l2: 743.263\n",
            "[291]\ttrain's l2: 593.782\tvalid's l2: 742.347\n",
            "[292]\ttrain's l2: 596.043\tvalid's l2: 743.288\n",
            "[293]\ttrain's l2: 598.104\tvalid's l2: 744.126\n",
            "[294]\ttrain's l2: 595.5\tvalid's l2: 742.897\n",
            "[295]\ttrain's l2: 597.587\tvalid's l2: 743.732\n",
            "[296]\ttrain's l2: 599.573\tvalid's l2: 744.573\n",
            "[297]\ttrain's l2: 597.027\tvalid's l2: 743.508\n",
            "[298]\ttrain's l2: 598.961\tvalid's l2: 744.345\n",
            "[299]\ttrain's l2: 596.143\tvalid's l2: 743.21\n",
            "[300]\ttrain's l2: 597.935\tvalid's l2: 744\n",
            "[301]\ttrain's l2: 603.077\tvalid's l2: 747.378\n",
            "[302]\ttrain's l2: 599.93\tvalid's l2: 746.177\n",
            "[303]\ttrain's l2: 602.264\tvalid's l2: 747.349\n",
            "[304]\ttrain's l2: 604.764\tvalid's l2: 748.68\n",
            "[305]\ttrain's l2: 607.366\tvalid's l2: 749.998\n",
            "[306]\ttrain's l2: 609.594\tvalid's l2: 751.165\n",
            "[307]\ttrain's l2: 611.593\tvalid's l2: 752.254\n",
            "[308]\ttrain's l2: 607.991\tvalid's l2: 750.352\n",
            "[309]\ttrain's l2: 610.31\tvalid's l2: 751.602\n",
            "[310]\ttrain's l2: 606.81\tvalid's l2: 749.749\n",
            "[311]\ttrain's l2: 603.405\tvalid's l2: 748.275\n",
            "[312]\ttrain's l2: 600.546\tvalid's l2: 746.673\n",
            "[313]\ttrain's l2: 597.47\tvalid's l2: 745.064\n",
            "[314]\ttrain's l2: 603\tvalid's l2: 748.859\n",
            "[315]\ttrain's l2: 605.37\tvalid's l2: 750.051\n",
            "[316]\ttrain's l2: 601.951\tvalid's l2: 748.405\n",
            "[317]\ttrain's l2: 598.432\tvalid's l2: 747.082\n",
            "[318]\ttrain's l2: 595.428\tvalid's l2: 745.969\n",
            "[319]\ttrain's l2: 597.577\tvalid's l2: 747.001\n",
            "[320]\ttrain's l2: 594.405\tvalid's l2: 746.076\n",
            "[321]\ttrain's l2: 596.171\tvalid's l2: 746.855\n",
            "[322]\ttrain's l2: 593.149\tvalid's l2: 745.629\n",
            "[323]\ttrain's l2: 589.99\tvalid's l2: 744.306\n",
            "[324]\ttrain's l2: 592.091\tvalid's l2: 745.234\n",
            "[325]\ttrain's l2: 589.432\tvalid's l2: 744.324\n",
            "[326]\ttrain's l2: 591.592\tvalid's l2: 745.274\n",
            "[327]\ttrain's l2: 588.685\tvalid's l2: 744.338\n",
            "[328]\ttrain's l2: 590.67\tvalid's l2: 745.221\n",
            "[329]\ttrain's l2: 588.109\tvalid's l2: 744.315\n",
            "[330]\ttrain's l2: 590.238\tvalid's l2: 745.265\n",
            "[331]\ttrain's l2: 592.331\tvalid's l2: 746.254\n",
            "[332]\ttrain's l2: 597.704\tvalid's l2: 750.026\n",
            "[333]\ttrain's l2: 599.946\tvalid's l2: 751.19\n",
            "[334]\ttrain's l2: 602.266\tvalid's l2: 752.387\n",
            "[335]\ttrain's l2: 598.536\tvalid's l2: 750.719\n",
            "[336]\ttrain's l2: 600.687\tvalid's l2: 751.807\n",
            "[337]\ttrain's l2: 596.943\tvalid's l2: 749.514\n",
            "[338]\ttrain's l2: 593.858\tvalid's l2: 747.875\n",
            "[339]\ttrain's l2: 595.956\tvalid's l2: 748.998\n",
            "[340]\ttrain's l2: 598.083\tvalid's l2: 750.041\n",
            "[341]\ttrain's l2: 594.859\tvalid's l2: 748.316\n",
            "[342]\ttrain's l2: 591.745\tvalid's l2: 746.941\n",
            "[343]\ttrain's l2: 588.747\tvalid's l2: 745.903\n",
            "[344]\ttrain's l2: 590.714\tvalid's l2: 746.828\n",
            "[345]\ttrain's l2: 587.816\tvalid's l2: 745.496\n",
            "[346]\ttrain's l2: 585.27\tvalid's l2: 744.216\n",
            "[347]\ttrain's l2: 587.195\tvalid's l2: 745.11\n",
            "[348]\ttrain's l2: 584.404\tvalid's l2: 743.57\n",
            "[349]\ttrain's l2: 581.831\tvalid's l2: 742.692\n",
            "[350]\ttrain's l2: 583.803\tvalid's l2: 743.491\n",
            "[351]\ttrain's l2: 581.341\tvalid's l2: 742.512\n",
            "[352]\ttrain's l2: 578.971\tvalid's l2: 741.795\n",
            "[353]\ttrain's l2: 576.558\tvalid's l2: 740.862\n",
            "[354]\ttrain's l2: 578.136\tvalid's l2: 741.506\n",
            "[355]\ttrain's l2: 579.976\tvalid's l2: 742.234\n",
            "[356]\ttrain's l2: 577.813\tvalid's l2: 741.504\n",
            "[357]\ttrain's l2: 579.304\tvalid's l2: 742.014\n",
            "[358]\ttrain's l2: 576.74\tvalid's l2: 741.542\n",
            "[359]\ttrain's l2: 581.311\tvalid's l2: 744.395\n",
            "[360]\ttrain's l2: 578.578\tvalid's l2: 743.59\n",
            "[361]\ttrain's l2: 576.177\tvalid's l2: 742.659\n",
            "[362]\ttrain's l2: 573.831\tvalid's l2: 741.793\n",
            "[363]\ttrain's l2: 575.538\tvalid's l2: 742.475\n",
            "[364]\ttrain's l2: 577.171\tvalid's l2: 743.127\n",
            "[365]\ttrain's l2: 575.071\tvalid's l2: 742.652\n",
            "[366]\ttrain's l2: 576.784\tvalid's l2: 743.374\n",
            "[367]\ttrain's l2: 578.662\tvalid's l2: 744.191\n",
            "[368]\ttrain's l2: 576.064\tvalid's l2: 743.467\n",
            "[369]\ttrain's l2: 577.592\tvalid's l2: 744.122\n",
            "[370]\ttrain's l2: 575.021\tvalid's l2: 743.131\n",
            "[371]\ttrain's l2: 576.731\tvalid's l2: 743.85\n",
            "[372]\ttrain's l2: 574.322\tvalid's l2: 742.796\n",
            "[373]\ttrain's l2: 572.157\tvalid's l2: 741.912\n",
            "[374]\ttrain's l2: 570.068\tvalid's l2: 741.384\n",
            "[375]\ttrain's l2: 567.908\tvalid's l2: 741.216\n",
            "[376]\ttrain's l2: 569.466\tvalid's l2: 741.786\n",
            "[377]\ttrain's l2: 567.568\tvalid's l2: 741.192\n",
            "[378]\ttrain's l2: 569.323\tvalid's l2: 741.852\n",
            "[379]\ttrain's l2: 570.974\tvalid's l2: 742.437\n",
            "[380]\ttrain's l2: 568.937\tvalid's l2: 742.132\n",
            "[381]\ttrain's l2: 570.576\tvalid's l2: 742.734\n",
            "[382]\ttrain's l2: 572.293\tvalid's l2: 743.371\n",
            "[383]\ttrain's l2: 569.93\tvalid's l2: 742.78\n",
            "[384]\ttrain's l2: 567.891\tvalid's l2: 741.978\n",
            "[385]\ttrain's l2: 569.679\tvalid's l2: 742.67\n",
            "[386]\ttrain's l2: 567.484\tvalid's l2: 742.338\n",
            "[387]\ttrain's l2: 565.457\tvalid's l2: 741.823\n",
            "[388]\ttrain's l2: 563.473\tvalid's l2: 741.554\n",
            "[389]\ttrain's l2: 561.766\tvalid's l2: 740.96\n",
            "[390]\ttrain's l2: 560.021\tvalid's l2: 740.968\n",
            "[391]\ttrain's l2: 561.481\tvalid's l2: 741.422\n",
            "[392]\ttrain's l2: 559.7\tvalid's l2: 740.815\n",
            "[393]\ttrain's l2: 558.062\tvalid's l2: 740.031\n",
            "[394]\ttrain's l2: 556.236\tvalid's l2: 739.703\n",
            "[395]\ttrain's l2: 554.661\tvalid's l2: 739.56\n",
            "[396]\ttrain's l2: 555.988\tvalid's l2: 739.9\n",
            "[397]\ttrain's l2: 554.52\tvalid's l2: 739.346\n",
            "[398]\ttrain's l2: 552.898\tvalid's l2: 739.059\n",
            "[399]\ttrain's l2: 551.426\tvalid's l2: 738.784\n",
            "[400]\ttrain's l2: 549.831\tvalid's l2: 738.599\n",
            "[401]\ttrain's l2: 550.979\tvalid's l2: 738.846\n",
            "[402]\ttrain's l2: 549.705\tvalid's l2: 738.674\n",
            "[403]\ttrain's l2: 550.832\tvalid's l2: 738.94\n",
            "[404]\ttrain's l2: 549.611\tvalid's l2: 738.584\n",
            "[405]\ttrain's l2: 548.193\tvalid's l2: 738.488\n",
            "[406]\ttrain's l2: 550.707\tvalid's l2: 739.724\n",
            "[407]\ttrain's l2: 549.196\tvalid's l2: 739.567\n",
            "[408]\ttrain's l2: 550.56\tvalid's l2: 739.9\n",
            "[409]\ttrain's l2: 549.106\tvalid's l2: 739.312\n",
            "[410]\ttrain's l2: 547.763\tvalid's l2: 739.007\n",
            "[411]\ttrain's l2: 546.315\tvalid's l2: 738.717\n",
            "[412]\ttrain's l2: 547.527\tvalid's l2: 739.003\n",
            "[413]\ttrain's l2: 548.851\tvalid's l2: 739.331\n",
            "[414]\ttrain's l2: 547.368\tvalid's l2: 738.95\n",
            "[415]\ttrain's l2: 545.612\tvalid's l2: 738.591\n",
            "[416]\ttrain's l2: 544.218\tvalid's l2: 738.341\n",
            "[417]\ttrain's l2: 545.495\tvalid's l2: 738.63\n",
            "[418]\ttrain's l2: 546.815\tvalid's l2: 738.977\n",
            "[419]\ttrain's l2: 545.301\tvalid's l2: 738.927\n",
            "[420]\ttrain's l2: 546.566\tvalid's l2: 739.249\n",
            "[421]\ttrain's l2: 545.026\tvalid's l2: 739.193\n",
            "[422]\ttrain's l2: 543.44\tvalid's l2: 738.961\n",
            "[423]\ttrain's l2: 542.016\tvalid's l2: 738.955\n",
            "[424]\ttrain's l2: 540.11\tvalid's l2: 739.159\n",
            "[425]\ttrain's l2: 541.323\tvalid's l2: 739.368\n",
            "[426]\ttrain's l2: 539.906\tvalid's l2: 739.277\n",
            "[427]\ttrain's l2: 538.605\tvalid's l2: 739.269\n",
            "[428]\ttrain's l2: 539.773\tvalid's l2: 739.451\n",
            "[429]\ttrain's l2: 538.334\tvalid's l2: 739.442\n",
            "[430]\ttrain's l2: 540.666\tvalid's l2: 740.431\n",
            "[431]\ttrain's l2: 539.122\tvalid's l2: 740.221\n",
            "[432]\ttrain's l2: 537.346\tvalid's l2: 740.207\n",
            "[433]\ttrain's l2: 535.848\tvalid's l2: 740.197\n",
            "[434]\ttrain's l2: 537.002\tvalid's l2: 740.388\n",
            "[435]\ttrain's l2: 538.217\tvalid's l2: 740.658\n",
            "[436]\ttrain's l2: 536.763\tvalid's l2: 740.997\n",
            "[437]\ttrain's l2: 535.37\tvalid's l2: 740.545\n",
            "[438]\ttrain's l2: 536.468\tvalid's l2: 740.772\n",
            "[439]\ttrain's l2: 538.809\tvalid's l2: 741.848\n",
            "[440]\ttrain's l2: 537.328\tvalid's l2: 741.517\n",
            "[441]\ttrain's l2: 535.762\tvalid's l2: 741.717\n",
            "[442]\ttrain's l2: 534.458\tvalid's l2: 741.313\n",
            "[443]\ttrain's l2: 535.557\tvalid's l2: 741.541\n",
            "[444]\ttrain's l2: 533.619\tvalid's l2: 741.196\n",
            "[445]\ttrain's l2: 532.318\tvalid's l2: 740.738\n",
            "[446]\ttrain's l2: 533.512\tvalid's l2: 741.019\n",
            "[447]\ttrain's l2: 532.115\tvalid's l2: 741.03\n",
            "[448]\ttrain's l2: 530.168\tvalid's l2: 740.968\n",
            "[449]\ttrain's l2: 528.871\tvalid's l2: 740.905\n",
            "[450]\ttrain's l2: 527.122\tvalid's l2: 741.067\n",
            "[451]\ttrain's l2: 526.108\tvalid's l2: 740.97\n",
            "[452]\ttrain's l2: 527.233\tvalid's l2: 741.162\n",
            "[453]\ttrain's l2: 528.34\tvalid's l2: 741.353\n",
            "[454]\ttrain's l2: 530.502\tvalid's l2: 742.329\n",
            "[455]\ttrain's l2: 528.677\tvalid's l2: 742.416\n",
            "[456]\ttrain's l2: 529.93\tvalid's l2: 742.689\n",
            "[457]\ttrain's l2: 531.137\tvalid's l2: 742.932\n",
            "[458]\ttrain's l2: 529.69\tvalid's l2: 742.706\n",
            "[459]\ttrain's l2: 528.169\tvalid's l2: 742.463\n",
            "[460]\ttrain's l2: 529.301\tvalid's l2: 742.705\n",
            "[461]\ttrain's l2: 527.387\tvalid's l2: 742.43\n",
            "[462]\ttrain's l2: 528.584\tvalid's l2: 742.694\n",
            "[463]\ttrain's l2: 529.776\tvalid's l2: 742.936\n",
            "[464]\ttrain's l2: 528.389\tvalid's l2: 742.651\n",
            "[465]\ttrain's l2: 526.908\tvalid's l2: 742.595\n",
            "[466]\ttrain's l2: 528.126\tvalid's l2: 742.855\n",
            "[467]\ttrain's l2: 526.631\tvalid's l2: 742.567\n",
            "[468]\ttrain's l2: 527.858\tvalid's l2: 742.895\n",
            "[469]\ttrain's l2: 526.524\tvalid's l2: 742.553\n",
            "[470]\ttrain's l2: 528.989\tvalid's l2: 743.781\n",
            "[471]\ttrain's l2: 527.298\tvalid's l2: 743.387\n",
            "[472]\ttrain's l2: 528.566\tvalid's l2: 743.738\n",
            "[473]\ttrain's l2: 526.583\tvalid's l2: 743.658\n",
            "[474]\ttrain's l2: 524.521\tvalid's l2: 743.399\n",
            "[475]\ttrain's l2: 523.067\tvalid's l2: 742.868\n",
            "[476]\ttrain's l2: 524.211\tvalid's l2: 743.16\n",
            "[477]\ttrain's l2: 522.744\tvalid's l2: 742.712\n",
            "[478]\ttrain's l2: 523.961\tvalid's l2: 743.001\n",
            "[479]\ttrain's l2: 525.245\tvalid's l2: 743.317\n",
            "[480]\ttrain's l2: 523.877\tvalid's l2: 742.94\n",
            "[481]\ttrain's l2: 522.226\tvalid's l2: 742.667\n",
            "[482]\ttrain's l2: 520.801\tvalid's l2: 742.422\n",
            "[483]\ttrain's l2: 519.427\tvalid's l2: 742.234\n",
            "[484]\ttrain's l2: 517.928\tvalid's l2: 742.375\n",
            "[485]\ttrain's l2: 519.028\tvalid's l2: 742.612\n",
            "[486]\ttrain's l2: 517.647\tvalid's l2: 742.397\n",
            "[487]\ttrain's l2: 516.366\tvalid's l2: 742.242\n",
            "[488]\ttrain's l2: 515.164\tvalid's l2: 741.977\n",
            "[489]\ttrain's l2: 513.7\tvalid's l2: 742.023\n",
            "[490]\ttrain's l2: 514.728\tvalid's l2: 742.106\n",
            "[491]\ttrain's l2: 515.77\tvalid's l2: 742.261\n",
            "[492]\ttrain's l2: 516.753\tvalid's l2: 742.437\n",
            "[493]\ttrain's l2: 517.883\tvalid's l2: 742.692\n",
            "[494]\ttrain's l2: 516.312\tvalid's l2: 742.438\n",
            "[495]\ttrain's l2: 514.698\tvalid's l2: 742.18\n",
            "[496]\ttrain's l2: 513.551\tvalid's l2: 742.187\n",
            "[497]\ttrain's l2: 512.388\tvalid's l2: 742.069\n",
            "[498]\ttrain's l2: 510.973\tvalid's l2: 742.159\n",
            "[499]\ttrain's l2: 511.921\tvalid's l2: 742.268\n",
            "[500]\ttrain's l2: 510.627\tvalid's l2: 741.744\n",
            "[501]\ttrain's l2: 511.684\tvalid's l2: 741.908\n",
            "[502]\ttrain's l2: 510.5\tvalid's l2: 741.845\n",
            "[503]\ttrain's l2: 509.344\tvalid's l2: 741.745\n",
            "[504]\ttrain's l2: 510.348\tvalid's l2: 741.874\n",
            "[505]\ttrain's l2: 511.313\tvalid's l2: 742.038\n",
            "[506]\ttrain's l2: 510.178\tvalid's l2: 741.843\n",
            "[507]\ttrain's l2: 509.103\tvalid's l2: 742.124\n",
            "[508]\ttrain's l2: 508.106\tvalid's l2: 741.955\n",
            "[509]\ttrain's l2: 507.034\tvalid's l2: 741.776\n",
            "[510]\ttrain's l2: 505.813\tvalid's l2: 741.728\n",
            "[511]\ttrain's l2: 506.699\tvalid's l2: 741.789\n",
            "[512]\ttrain's l2: 505.398\tvalid's l2: 741.736\n",
            "[513]\ttrain's l2: 504.086\tvalid's l2: 741.705\n",
            "[514]\ttrain's l2: 502.62\tvalid's l2: 741.653\n",
            "[515]\ttrain's l2: 501.464\tvalid's l2: 741.632\n",
            "[516]\ttrain's l2: 502.334\tvalid's l2: 741.672\n",
            "[517]\ttrain's l2: 503.291\tvalid's l2: 741.767\n",
            "[518]\ttrain's l2: 504.138\tvalid's l2: 741.866\n",
            "[519]\ttrain's l2: 505.128\tvalid's l2: 741.959\n",
            "[520]\ttrain's l2: 504.006\tvalid's l2: 741.822\n",
            "[521]\ttrain's l2: 502.841\tvalid's l2: 741.59\n",
            "[522]\ttrain's l2: 503.715\tvalid's l2: 741.654\n",
            "[523]\ttrain's l2: 504.73\tvalid's l2: 741.779\n",
            "[524]\ttrain's l2: 505.74\tvalid's l2: 741.941\n",
            "[525]\ttrain's l2: 506.746\tvalid's l2: 742.135\n",
            "[526]\ttrain's l2: 505.29\tvalid's l2: 741.929\n",
            "[527]\ttrain's l2: 507.237\tvalid's l2: 742.797\n",
            "[528]\ttrain's l2: 505.846\tvalid's l2: 742.619\n",
            "[529]\ttrain's l2: 504.318\tvalid's l2: 742.328\n",
            "[530]\ttrain's l2: 503.045\tvalid's l2: 742.132\n",
            "[531]\ttrain's l2: 504.049\tvalid's l2: 742.304\n",
            "[532]\ttrain's l2: 502.853\tvalid's l2: 742.049\n",
            "[533]\ttrain's l2: 503.829\tvalid's l2: 742.213\n",
            "[534]\ttrain's l2: 502.478\tvalid's l2: 742.244\n",
            "[535]\ttrain's l2: 501.08\tvalid's l2: 742.327\n",
            "[536]\ttrain's l2: 501.943\tvalid's l2: 742.477\n",
            "[537]\ttrain's l2: 500.494\tvalid's l2: 742.215\n",
            "[538]\ttrain's l2: 499.273\tvalid's l2: 742.322\n",
            "[539]\ttrain's l2: 500.27\tvalid's l2: 742.45\n",
            "[540]\ttrain's l2: 501.275\tvalid's l2: 742.639\n",
            "[541]\ttrain's l2: 502.327\tvalid's l2: 742.883\n",
            "[542]\ttrain's l2: 500.879\tvalid's l2: 742.817\n",
            "[543]\ttrain's l2: 501.892\tvalid's l2: 742.989\n",
            "[544]\ttrain's l2: 502.904\tvalid's l2: 743.193\n",
            "[545]\ttrain's l2: 501.496\tvalid's l2: 742.959\n",
            "[546]\ttrain's l2: 500.268\tvalid's l2: 742.933\n",
            "[547]\ttrain's l2: 499.099\tvalid's l2: 743.122\n",
            "[548]\ttrain's l2: 497.801\tvalid's l2: 742.967\n",
            "[549]\ttrain's l2: 498.764\tvalid's l2: 743.119\n",
            "[550]\ttrain's l2: 497.558\tvalid's l2: 742.934\n",
            "[551]\ttrain's l2: 496.58\tvalid's l2: 742.577\n",
            "[552]\ttrain's l2: 495.363\tvalid's l2: 742.277\n",
            "[553]\ttrain's l2: 496.385\tvalid's l2: 742.365\n",
            "[554]\ttrain's l2: 497.258\tvalid's l2: 742.506\n",
            "[555]\ttrain's l2: 496.007\tvalid's l2: 742.268\n",
            "[556]\ttrain's l2: 496.999\tvalid's l2: 742.469\n",
            "[557]\ttrain's l2: 497.921\tvalid's l2: 742.591\n",
            "[558]\ttrain's l2: 496.778\tvalid's l2: 742.667\n",
            "[559]\ttrain's l2: 495.486\tvalid's l2: 742.363\n",
            "[560]\ttrain's l2: 494.237\tvalid's l2: 742.739\n",
            "[561]\ttrain's l2: 495.198\tvalid's l2: 742.844\n",
            "[562]\ttrain's l2: 496.088\tvalid's l2: 742.98\n",
            "[563]\ttrain's l2: 496.996\tvalid's l2: 743.138\n",
            "[564]\ttrain's l2: 498.047\tvalid's l2: 743.321\n",
            "[565]\ttrain's l2: 496.583\tvalid's l2: 742.829\n",
            "[566]\ttrain's l2: 495.331\tvalid's l2: 742.945\n",
            "[567]\ttrain's l2: 493.856\tvalid's l2: 742.895\n",
            "[568]\ttrain's l2: 494.762\tvalid's l2: 743.033\n",
            "[569]\ttrain's l2: 495.767\tvalid's l2: 743.156\n",
            "[570]\ttrain's l2: 496.71\tvalid's l2: 743.322\n",
            "[571]\ttrain's l2: 495.378\tvalid's l2: 743.095\n",
            "[572]\ttrain's l2: 494.195\tvalid's l2: 742.581\n",
            "[573]\ttrain's l2: 495.083\tvalid's l2: 742.753\n",
            "[574]\ttrain's l2: 496.094\tvalid's l2: 742.949\n",
            "[575]\ttrain's l2: 494.532\tvalid's l2: 742.708\n",
            "[576]\ttrain's l2: 495.523\tvalid's l2: 742.843\n",
            "[577]\ttrain's l2: 496.468\tvalid's l2: 743.019\n",
            "[578]\ttrain's l2: 497.419\tvalid's l2: 743.157\n",
            "[579]\ttrain's l2: 498.42\tvalid's l2: 743.397\n",
            "[580]\ttrain's l2: 499.493\tvalid's l2: 743.574\n",
            "[581]\ttrain's l2: 498.181\tvalid's l2: 743.078\n",
            "[582]\ttrain's l2: 499.123\tvalid's l2: 743.31\n",
            "[583]\ttrain's l2: 497.739\tvalid's l2: 743.065\n",
            "[584]\ttrain's l2: 498.746\tvalid's l2: 743.271\n",
            "[585]\ttrain's l2: 497.163\tvalid's l2: 742.877\n",
            "[586]\ttrain's l2: 498.091\tvalid's l2: 743.063\n",
            "[587]\ttrain's l2: 496.737\tvalid's l2: 742.586\n",
            "[588]\ttrain's l2: 497.734\tvalid's l2: 742.778\n",
            "[589]\ttrain's l2: 498.784\tvalid's l2: 742.99\n",
            "[590]\ttrain's l2: 499.75\tvalid's l2: 743.281\n",
            "[591]\ttrain's l2: 500.789\tvalid's l2: 743.503\n",
            "[592]\ttrain's l2: 501.828\tvalid's l2: 743.77\n",
            "[593]\ttrain's l2: 500.037\tvalid's l2: 743.289\n",
            "[594]\ttrain's l2: 501.113\tvalid's l2: 743.587\n",
            "[595]\ttrain's l2: 502.053\tvalid's l2: 743.838\n",
            "[596]\ttrain's l2: 500.415\tvalid's l2: 743.363\n",
            "[597]\ttrain's l2: 501.41\tvalid's l2: 743.628\n",
            "[598]\ttrain's l2: 502.457\tvalid's l2: 743.948\n",
            "[599]\ttrain's l2: 500.919\tvalid's l2: 743.548\n",
            "[600]\ttrain's l2: 499.317\tvalid's l2: 743.526\n",
            "[601]\ttrain's l2: 497.701\tvalid's l2: 743.081\n",
            "[602]\ttrain's l2: 498.648\tvalid's l2: 743.318\n",
            "[603]\ttrain's l2: 497.331\tvalid's l2: 742.952\n",
            "[604]\ttrain's l2: 498.343\tvalid's l2: 743.24\n",
            "[605]\ttrain's l2: 499.383\tvalid's l2: 743.481\n",
            "[606]\ttrain's l2: 500.386\tvalid's l2: 743.77\n",
            "[607]\ttrain's l2: 501.35\tvalid's l2: 744.06\n",
            "[608]\ttrain's l2: 499.732\tvalid's l2: 743.694\n",
            "[609]\ttrain's l2: 498.198\tvalid's l2: 743.286\n",
            "[610]\ttrain's l2: 496.443\tvalid's l2: 742.833\n",
            "[611]\ttrain's l2: 495.023\tvalid's l2: 742.8\n",
            "[612]\ttrain's l2: 493.706\tvalid's l2: 742.343\n",
            "[613]\ttrain's l2: 494.588\tvalid's l2: 742.523\n",
            "[614]\ttrain's l2: 493.302\tvalid's l2: 742.195\n",
            "[615]\ttrain's l2: 492.047\tvalid's l2: 742.01\n",
            "[616]\ttrain's l2: 490.649\tvalid's l2: 741.85\n",
            "[617]\ttrain's l2: 491.487\tvalid's l2: 741.978\n",
            "[618]\ttrain's l2: 490.191\tvalid's l2: 741.981\n",
            "[619]\ttrain's l2: 489.011\tvalid's l2: 742.273\n",
            "[620]\ttrain's l2: 487.773\tvalid's l2: 742.751\n",
            "[621]\ttrain's l2: 488.595\tvalid's l2: 742.851\n",
            "[622]\ttrain's l2: 490.38\tvalid's l2: 743.564\n",
            "[623]\ttrain's l2: 489.034\tvalid's l2: 743.292\n",
            "[624]\ttrain's l2: 489.873\tvalid's l2: 743.428\n",
            "[625]\ttrain's l2: 488.65\tvalid's l2: 744.174\n",
            "[626]\ttrain's l2: 487.357\tvalid's l2: 744.152\n",
            "[627]\ttrain's l2: 486.113\tvalid's l2: 743.91\n",
            "[628]\ttrain's l2: 484.683\tvalid's l2: 743.716\n",
            "[629]\ttrain's l2: 485.512\tvalid's l2: 743.819\n",
            "[630]\ttrain's l2: 486.342\tvalid's l2: 743.93\n",
            "[631]\ttrain's l2: 484.979\tvalid's l2: 743.607\n",
            "[632]\ttrain's l2: 483.511\tvalid's l2: 743.476\n",
            "[633]\ttrain's l2: 484.313\tvalid's l2: 743.556\n",
            "[634]\ttrain's l2: 485.14\tvalid's l2: 743.633\n",
            "[635]\ttrain's l2: 483.926\tvalid's l2: 743.625\n",
            "[636]\ttrain's l2: 482.869\tvalid's l2: 743.244\n",
            "[637]\ttrain's l2: 481.643\tvalid's l2: 742.896\n",
            "[638]\ttrain's l2: 482.453\tvalid's l2: 742.984\n",
            "[639]\ttrain's l2: 483.328\tvalid's l2: 743.104\n",
            "[640]\ttrain's l2: 482.272\tvalid's l2: 742.873\n",
            "[641]\ttrain's l2: 483.061\tvalid's l2: 743.004\n",
            "[642]\ttrain's l2: 483.802\tvalid's l2: 743.153\n",
            "[643]\ttrain's l2: 482.621\tvalid's l2: 743.234\n",
            "[644]\ttrain's l2: 483.447\tvalid's l2: 743.361\n",
            "[645]\ttrain's l2: 482.229\tvalid's l2: 743.275\n",
            "[646]\ttrain's l2: 481.034\tvalid's l2: 743.205\n",
            "[647]\ttrain's l2: 479.858\tvalid's l2: 743.432\n",
            "[648]\ttrain's l2: 478.833\tvalid's l2: 743.534\n",
            "[649]\ttrain's l2: 480.342\tvalid's l2: 744.164\n",
            "[650]\ttrain's l2: 481.121\tvalid's l2: 744.308\n",
            "[651]\ttrain's l2: 479.905\tvalid's l2: 744.227\n",
            "[652]\ttrain's l2: 480.721\tvalid's l2: 744.411\n",
            "[653]\ttrain's l2: 481.53\tvalid's l2: 744.57\n",
            "[654]\ttrain's l2: 482.363\tvalid's l2: 744.743\n",
            "[655]\ttrain's l2: 481.01\tvalid's l2: 744.463\n",
            "[656]\ttrain's l2: 479.778\tvalid's l2: 744.441\n",
            "[657]\ttrain's l2: 480.554\tvalid's l2: 744.535\n",
            "[658]\ttrain's l2: 479.302\tvalid's l2: 744.236\n",
            "[659]\ttrain's l2: 480.142\tvalid's l2: 744.393\n",
            "[660]\ttrain's l2: 478.863\tvalid's l2: 744.468\n",
            "[661]\ttrain's l2: 479.676\tvalid's l2: 744.65\n",
            "[662]\ttrain's l2: 478.379\tvalid's l2: 744.346\n",
            "[663]\ttrain's l2: 479.195\tvalid's l2: 744.488\n",
            "[664]\ttrain's l2: 480.928\tvalid's l2: 745.348\n",
            "[665]\ttrain's l2: 481.805\tvalid's l2: 745.606\n",
            "[666]\ttrain's l2: 482.693\tvalid's l2: 745.855\n",
            "[667]\ttrain's l2: 483.566\tvalid's l2: 746.028\n",
            "[668]\ttrain's l2: 484.428\tvalid's l2: 746.237\n",
            "[669]\ttrain's l2: 483.167\tvalid's l2: 745.858\n",
            "[670]\ttrain's l2: 481.756\tvalid's l2: 745.224\n",
            "[671]\ttrain's l2: 482.519\tvalid's l2: 745.391\n",
            "[672]\ttrain's l2: 480.986\tvalid's l2: 744.99\n",
            "[673]\ttrain's l2: 482.777\tvalid's l2: 746.033\n",
            "[674]\ttrain's l2: 481.349\tvalid's l2: 745.755\n",
            "[675]\ttrain's l2: 480.022\tvalid's l2: 746.319\n",
            "[676]\ttrain's l2: 478.648\tvalid's l2: 745.902\n",
            "[677]\ttrain's l2: 477.465\tvalid's l2: 745.719\n",
            "[678]\ttrain's l2: 478.263\tvalid's l2: 745.966\n",
            "[679]\ttrain's l2: 476.869\tvalid's l2: 745.582\n",
            "[680]\ttrain's l2: 475.499\tvalid's l2: 745.415\n",
            "[681]\ttrain's l2: 477.211\tvalid's l2: 746.38\n",
            "[682]\ttrain's l2: 478.001\tvalid's l2: 746.59\n",
            "[683]\ttrain's l2: 476.695\tvalid's l2: 745.961\n",
            "[684]\ttrain's l2: 475.34\tvalid's l2: 745.707\n",
            "[685]\ttrain's l2: 476.224\tvalid's l2: 745.906\n",
            "[686]\ttrain's l2: 474.542\tvalid's l2: 745.386\n",
            "[687]\ttrain's l2: 475.468\tvalid's l2: 745.654\n",
            "[688]\ttrain's l2: 476.34\tvalid's l2: 745.875\n",
            "[689]\ttrain's l2: 474.731\tvalid's l2: 745.535\n",
            "[690]\ttrain's l2: 473.303\tvalid's l2: 745.609\n",
            "[691]\ttrain's l2: 474.074\tvalid's l2: 745.817\n",
            "[692]\ttrain's l2: 474.877\tvalid's l2: 745.98\n",
            "[693]\ttrain's l2: 473.503\tvalid's l2: 745.841\n",
            "[694]\ttrain's l2: 472.397\tvalid's l2: 745.695\n",
            "[695]\ttrain's l2: 473.181\tvalid's l2: 745.889\n",
            "[696]\ttrain's l2: 471.659\tvalid's l2: 745.576\n",
            "[697]\ttrain's l2: 470.193\tvalid's l2: 745.33\n",
            "[698]\ttrain's l2: 469.14\tvalid's l2: 745.012\n",
            "[699]\ttrain's l2: 469.957\tvalid's l2: 745.168\n",
            "[700]\ttrain's l2: 468.897\tvalid's l2: 744.956\n",
            "[701]\ttrain's l2: 467.641\tvalid's l2: 745.031\n",
            "[702]\ttrain's l2: 466.597\tvalid's l2: 744.784\n",
            "[703]\ttrain's l2: 467.268\tvalid's l2: 744.891\n",
            "[704]\ttrain's l2: 468.072\tvalid's l2: 745.034\n",
            "[705]\ttrain's l2: 468.828\tvalid's l2: 745.226\n",
            "[706]\ttrain's l2: 469.486\tvalid's l2: 745.362\n",
            "[707]\ttrain's l2: 470.232\tvalid's l2: 745.575\n",
            "[708]\ttrain's l2: 469.096\tvalid's l2: 745.567\n",
            "[709]\ttrain's l2: 467.857\tvalid's l2: 745.543\n",
            "[710]\ttrain's l2: 466.619\tvalid's l2: 745.25\n",
            "[711]\ttrain's l2: 467.329\tvalid's l2: 745.437\n",
            "[712]\ttrain's l2: 468.122\tvalid's l2: 745.596\n",
            "[713]\ttrain's l2: 467.097\tvalid's l2: 745.343\n",
            "[714]\ttrain's l2: 465.938\tvalid's l2: 745.051\n",
            "[715]\ttrain's l2: 466.722\tvalid's l2: 745.204\n",
            "[716]\ttrain's l2: 465.441\tvalid's l2: 745.186\n",
            "[717]\ttrain's l2: 466.934\tvalid's l2: 746.011\n",
            "[718]\ttrain's l2: 467.732\tvalid's l2: 746.228\n",
            "[719]\ttrain's l2: 468.611\tvalid's l2: 746.456\n",
            "[720]\ttrain's l2: 469.406\tvalid's l2: 746.594\n",
            "[721]\ttrain's l2: 468.03\tvalid's l2: 746.587\n",
            "[722]\ttrain's l2: 468.783\tvalid's l2: 746.76\n",
            "[723]\ttrain's l2: 467.393\tvalid's l2: 746.339\n",
            "[724]\ttrain's l2: 466.028\tvalid's l2: 746.285\n",
            "[725]\ttrain's l2: 467.712\tvalid's l2: 747.279\n",
            "[726]\ttrain's l2: 466.426\tvalid's l2: 746.786\n",
            "[727]\ttrain's l2: 465.101\tvalid's l2: 746.299\n",
            "[728]\ttrain's l2: 463.903\tvalid's l2: 746.041\n",
            "[729]\ttrain's l2: 464.65\tvalid's l2: 746.237\n",
            "[730]\ttrain's l2: 463.431\tvalid's l2: 746.252\n",
            "[731]\ttrain's l2: 464.204\tvalid's l2: 746.441\n",
            "[732]\ttrain's l2: 464.965\tvalid's l2: 746.594\n",
            "[733]\ttrain's l2: 463.821\tvalid's l2: 746.403\n",
            "[734]\ttrain's l2: 464.599\tvalid's l2: 746.61\n",
            "[735]\ttrain's l2: 463.129\tvalid's l2: 746.44\n",
            "[736]\ttrain's l2: 463.889\tvalid's l2: 746.624\n",
            "[737]\ttrain's l2: 464.584\tvalid's l2: 746.8\n",
            "[738]\ttrain's l2: 463.434\tvalid's l2: 746.559\n",
            "[739]\ttrain's l2: 462.243\tvalid's l2: 746.38\n",
            "[740]\ttrain's l2: 461.07\tvalid's l2: 746.183\n",
            "[741]\ttrain's l2: 461.772\tvalid's l2: 746.368\n",
            "[742]\ttrain's l2: 460.679\tvalid's l2: 746.366\n",
            "[743]\ttrain's l2: 459.734\tvalid's l2: 746.5\n",
            "[744]\ttrain's l2: 458.729\tvalid's l2: 746.086\n",
            "[745]\ttrain's l2: 459.348\tvalid's l2: 746.195\n",
            "[746]\ttrain's l2: 460.775\tvalid's l2: 746.953\n",
            "[747]\ttrain's l2: 459.375\tvalid's l2: 746.723\n",
            "[748]\ttrain's l2: 458.243\tvalid's l2: 746.715\n",
            "[749]\ttrain's l2: 459.025\tvalid's l2: 746.88\n",
            "[750]\ttrain's l2: 457.849\tvalid's l2: 746.264\n",
            "[751]\ttrain's l2: 456.831\tvalid's l2: 746.018\n",
            "[752]\ttrain's l2: 457.528\tvalid's l2: 746.159\n",
            "[753]\ttrain's l2: 456.47\tvalid's l2: 745.966\n",
            "[754]\ttrain's l2: 457.192\tvalid's l2: 746.069\n",
            "[755]\ttrain's l2: 456.229\tvalid's l2: 746.116\n",
            "[756]\ttrain's l2: 456.889\tvalid's l2: 746.257\n",
            "[757]\ttrain's l2: 457.564\tvalid's l2: 746.441\n",
            "[758]\ttrain's l2: 456.659\tvalid's l2: 746.107\n",
            "[759]\ttrain's l2: 455.694\tvalid's l2: 746.124\n",
            "[760]\ttrain's l2: 456.504\tvalid's l2: 746.273\n",
            "[761]\ttrain's l2: 455.489\tvalid's l2: 746.355\n",
            "[762]\ttrain's l2: 454.402\tvalid's l2: 746.545\n",
            "[763]\ttrain's l2: 455.69\tvalid's l2: 747.273\n",
            "[764]\ttrain's l2: 454.442\tvalid's l2: 747.202\n",
            "[765]\ttrain's l2: 455.072\tvalid's l2: 747.347\n",
            "[766]\ttrain's l2: 453.991\tvalid's l2: 747.262\n",
            "[767]\ttrain's l2: 454.689\tvalid's l2: 747.394\n",
            "[768]\ttrain's l2: 455.357\tvalid's l2: 747.551\n",
            "[769]\ttrain's l2: 454.402\tvalid's l2: 747.337\n",
            "[770]\ttrain's l2: 455.068\tvalid's l2: 747.472\n",
            "[771]\ttrain's l2: 455.703\tvalid's l2: 747.62\n",
            "[772]\ttrain's l2: 456.355\tvalid's l2: 747.777\n",
            "[773]\ttrain's l2: 457.086\tvalid's l2: 747.936\n",
            "[774]\ttrain's l2: 457.715\tvalid's l2: 748.135\n",
            "[775]\ttrain's l2: 456.545\tvalid's l2: 747.727\n",
            "[776]\ttrain's l2: 455.297\tvalid's l2: 747.59\n",
            "[777]\ttrain's l2: 453.815\tvalid's l2: 747.693\n",
            "[778]\ttrain's l2: 452.818\tvalid's l2: 747.326\n",
            "[779]\ttrain's l2: 453.537\tvalid's l2: 747.516\n",
            "[780]\ttrain's l2: 454.227\tvalid's l2: 747.653\n",
            "[781]\ttrain's l2: 452.91\tvalid's l2: 747.492\n",
            "[782]\ttrain's l2: 452.026\tvalid's l2: 747.457\n",
            "[783]\ttrain's l2: 452.823\tvalid's l2: 747.62\n",
            "[784]\ttrain's l2: 453.611\tvalid's l2: 747.792\n",
            "[785]\ttrain's l2: 452.233\tvalid's l2: 747.653\n",
            "[786]\ttrain's l2: 452.941\tvalid's l2: 747.794\n",
            "[787]\ttrain's l2: 453.714\tvalid's l2: 747.908\n",
            "[788]\ttrain's l2: 454.421\tvalid's l2: 748.097\n",
            "[789]\ttrain's l2: 453.217\tvalid's l2: 747.654\n",
            "[790]\ttrain's l2: 452.077\tvalid's l2: 747.576\n",
            "[791]\ttrain's l2: 450.933\tvalid's l2: 747.26\n",
            "[792]\ttrain's l2: 451.57\tvalid's l2: 747.385\n",
            "[793]\ttrain's l2: 450.08\tvalid's l2: 746.983\n",
            "[794]\ttrain's l2: 450.764\tvalid's l2: 747.13\n",
            "[795]\ttrain's l2: 449.565\tvalid's l2: 746.929\n",
            "[796]\ttrain's l2: 450.198\tvalid's l2: 747.071\n",
            "[797]\ttrain's l2: 450.932\tvalid's l2: 747.271\n",
            "[798]\ttrain's l2: 451.58\tvalid's l2: 747.436\n",
            "[799]\ttrain's l2: 450.468\tvalid's l2: 747.404\n",
            "[800]\ttrain's l2: 451.196\tvalid's l2: 747.559\n",
            "[801]\ttrain's l2: 450.304\tvalid's l2: 747.27\n",
            "[802]\ttrain's l2: 450.908\tvalid's l2: 747.423\n",
            "[803]\ttrain's l2: 451.493\tvalid's l2: 747.573\n",
            "[804]\ttrain's l2: 452.211\tvalid's l2: 747.749\n",
            "[805]\ttrain's l2: 452.799\tvalid's l2: 747.911\n",
            "[806]\ttrain's l2: 453.467\tvalid's l2: 748.092\n",
            "[807]\ttrain's l2: 452.252\tvalid's l2: 747.77\n",
            "[808]\ttrain's l2: 451.089\tvalid's l2: 747.417\n",
            "[809]\ttrain's l2: 451.725\tvalid's l2: 747.589\n",
            "[810]\ttrain's l2: 450.533\tvalid's l2: 747.359\n",
            "[811]\ttrain's l2: 449.473\tvalid's l2: 747.094\n",
            "[812]\ttrain's l2: 450.137\tvalid's l2: 747.234\n",
            "[813]\ttrain's l2: 449.138\tvalid's l2: 747.137\n",
            "[814]\ttrain's l2: 449.765\tvalid's l2: 747.287\n",
            "[815]\ttrain's l2: 448.67\tvalid's l2: 747.155\n",
            "[816]\ttrain's l2: 447.549\tvalid's l2: 747.389\n",
            "[817]\ttrain's l2: 448.118\tvalid's l2: 747.518\n",
            "[818]\ttrain's l2: 447.254\tvalid's l2: 747.198\n",
            "[819]\ttrain's l2: 447.837\tvalid's l2: 747.292\n",
            "[820]\ttrain's l2: 448.57\tvalid's l2: 747.428\n",
            "[821]\ttrain's l2: 447.608\tvalid's l2: 747.366\n",
            "[822]\ttrain's l2: 448.241\tvalid's l2: 747.546\n",
            "[823]\ttrain's l2: 446.964\tvalid's l2: 747.421\n",
            "[824]\ttrain's l2: 445.942\tvalid's l2: 747.277\n",
            "[825]\ttrain's l2: 444.946\tvalid's l2: 747.07\n",
            "[826]\ttrain's l2: 445.593\tvalid's l2: 747.223\n",
            "[827]\ttrain's l2: 446.233\tvalid's l2: 747.339\n",
            "[828]\ttrain's l2: 445.23\tvalid's l2: 747.277\n",
            "[829]\ttrain's l2: 443.971\tvalid's l2: 747.119\n",
            "[830]\ttrain's l2: 443.007\tvalid's l2: 746.769\n",
            "[831]\ttrain's l2: 441.89\tvalid's l2: 746.622\n",
            "[832]\ttrain's l2: 440.957\tvalid's l2: 746.407\n",
            "[833]\ttrain's l2: 439.851\tvalid's l2: 746.407\n",
            "[834]\ttrain's l2: 440.364\tvalid's l2: 746.505\n",
            "[835]\ttrain's l2: 440.886\tvalid's l2: 746.597\n",
            "[836]\ttrain's l2: 440.068\tvalid's l2: 746.613\n",
            "[837]\ttrain's l2: 439.284\tvalid's l2: 746.467\n",
            "[838]\ttrain's l2: 439.952\tvalid's l2: 746.585\n",
            "[839]\ttrain's l2: 439.227\tvalid's l2: 746.53\n",
            "[840]\ttrain's l2: 438.145\tvalid's l2: 746.346\n",
            "[841]\ttrain's l2: 437.241\tvalid's l2: 746.252\n",
            "[842]\ttrain's l2: 436.51\tvalid's l2: 746.394\n",
            "[843]\ttrain's l2: 435.428\tvalid's l2: 746.085\n",
            "[844]\ttrain's l2: 435.954\tvalid's l2: 746.166\n",
            "[845]\ttrain's l2: 436.514\tvalid's l2: 746.23\n",
            "[846]\ttrain's l2: 437.048\tvalid's l2: 746.304\n",
            "[847]\ttrain's l2: 436.235\tvalid's l2: 745.909\n",
            "[848]\ttrain's l2: 436.817\tvalid's l2: 745.995\n",
            "[849]\ttrain's l2: 437.329\tvalid's l2: 746.068\n",
            "[850]\ttrain's l2: 436.38\tvalid's l2: 745.713\n",
            "[851]\ttrain's l2: 436.971\tvalid's l2: 745.822\n",
            "[852]\ttrain's l2: 436.063\tvalid's l2: 745.58\n",
            "[853]\ttrain's l2: 435.131\tvalid's l2: 745.443\n",
            "[854]\ttrain's l2: 435.668\tvalid's l2: 745.563\n",
            "[855]\ttrain's l2: 434.848\tvalid's l2: 745.7\n",
            "[856]\ttrain's l2: 433.996\tvalid's l2: 745.81\n",
            "[857]\ttrain's l2: 434.503\tvalid's l2: 745.892\n",
            "[858]\ttrain's l2: 435.052\tvalid's l2: 746\n",
            "[859]\ttrain's l2: 435.631\tvalid's l2: 746.122\n",
            "[860]\ttrain's l2: 434.753\tvalid's l2: 745.765\n",
            "[861]\ttrain's l2: 433.864\tvalid's l2: 745.653\n",
            "[862]\ttrain's l2: 432.993\tvalid's l2: 745.461\n",
            "[863]\ttrain's l2: 433.504\tvalid's l2: 745.57\n",
            "[864]\ttrain's l2: 434.098\tvalid's l2: 745.666\n",
            "[865]\ttrain's l2: 433.278\tvalid's l2: 745.369\n",
            "[866]\ttrain's l2: 432.363\tvalid's l2: 745.266\n",
            "[867]\ttrain's l2: 431.528\tvalid's l2: 745.16\n",
            "[868]\ttrain's l2: 432.081\tvalid's l2: 745.221\n",
            "[869]\ttrain's l2: 431.088\tvalid's l2: 745.13\n",
            "[870]\ttrain's l2: 431.658\tvalid's l2: 745.187\n",
            "[871]\ttrain's l2: 432.21\tvalid's l2: 745.291\n",
            "[872]\ttrain's l2: 431.222\tvalid's l2: 745.491\n",
            "[873]\ttrain's l2: 431.823\tvalid's l2: 745.553\n",
            "[874]\ttrain's l2: 432.893\tvalid's l2: 746.181\n",
            "[875]\ttrain's l2: 433.5\tvalid's l2: 746.306\n",
            "[876]\ttrain's l2: 432.635\tvalid's l2: 745.963\n",
            "[877]\ttrain's l2: 433.158\tvalid's l2: 746.084\n",
            "[878]\ttrain's l2: 432.193\tvalid's l2: 745.937\n",
            "[879]\ttrain's l2: 432.758\tvalid's l2: 746.052\n",
            "[880]\ttrain's l2: 433.441\tvalid's l2: 746.158\n",
            "[881]\ttrain's l2: 434.076\tvalid's l2: 746.31\n",
            "[882]\ttrain's l2: 432.989\tvalid's l2: 746.559\n",
            "[883]\ttrain's l2: 433.564\tvalid's l2: 746.706\n",
            "[884]\ttrain's l2: 432.278\tvalid's l2: 746.606\n",
            "[885]\ttrain's l2: 431.263\tvalid's l2: 746.32\n",
            "[886]\ttrain's l2: 429.934\tvalid's l2: 746.197\n",
            "[887]\ttrain's l2: 429.117\tvalid's l2: 745.898\n",
            "[888]\ttrain's l2: 427.965\tvalid's l2: 746.085\n",
            "[889]\ttrain's l2: 428.639\tvalid's l2: 746.181\n",
            "[890]\ttrain's l2: 427.899\tvalid's l2: 745.999\n",
            "[891]\ttrain's l2: 427\tvalid's l2: 745.796\n",
            "[892]\ttrain's l2: 426.143\tvalid's l2: 745.878\n",
            "[893]\ttrain's l2: 427.112\tvalid's l2: 746.444\n",
            "[894]\ttrain's l2: 426.282\tvalid's l2: 746.185\n",
            "[895]\ttrain's l2: 426.774\tvalid's l2: 746.249\n",
            "[896]\ttrain's l2: 427.321\tvalid's l2: 746.346\n",
            "[897]\ttrain's l2: 427.946\tvalid's l2: 746.474\n",
            "[898]\ttrain's l2: 428.517\tvalid's l2: 746.58\n",
            "[899]\ttrain's l2: 427.241\tvalid's l2: 746.224\n",
            "[900]\ttrain's l2: 426.394\tvalid's l2: 745.84\n",
            "[901]\ttrain's l2: 425.41\tvalid's l2: 745.647\n",
            "[902]\ttrain's l2: 425.93\tvalid's l2: 745.751\n",
            "[903]\ttrain's l2: 425.063\tvalid's l2: 745.468\n",
            "[904]\ttrain's l2: 424.326\tvalid's l2: 745.411\n",
            "[905]\ttrain's l2: 424.861\tvalid's l2: 745.508\n",
            "[906]\ttrain's l2: 425.567\tvalid's l2: 745.594\n",
            "[907]\ttrain's l2: 424.474\tvalid's l2: 745.482\n",
            "[908]\ttrain's l2: 425.051\tvalid's l2: 745.559\n",
            "[909]\ttrain's l2: 425.569\tvalid's l2: 745.678\n",
            "[910]\ttrain's l2: 426.244\tvalid's l2: 745.767\n",
            "[911]\ttrain's l2: 425.072\tvalid's l2: 745.615\n",
            "[912]\ttrain's l2: 425.609\tvalid's l2: 745.709\n",
            "[913]\ttrain's l2: 426.127\tvalid's l2: 745.79\n",
            "[914]\ttrain's l2: 425.135\tvalid's l2: 745.967\n",
            "[915]\ttrain's l2: 424.238\tvalid's l2: 745.626\n",
            "[916]\ttrain's l2: 424.826\tvalid's l2: 745.712\n",
            "[917]\ttrain's l2: 425.367\tvalid's l2: 745.786\n",
            "[918]\ttrain's l2: 425.95\tvalid's l2: 745.884\n",
            "[919]\ttrain's l2: 426.612\tvalid's l2: 745.986\n",
            "[920]\ttrain's l2: 427.186\tvalid's l2: 746.102\n",
            "[921]\ttrain's l2: 427.764\tvalid's l2: 746.242\n",
            "[922]\ttrain's l2: 428.377\tvalid's l2: 746.37\n",
            "[923]\ttrain's l2: 428.91\tvalid's l2: 746.53\n",
            "[924]\ttrain's l2: 427.857\tvalid's l2: 746.111\n",
            "[925]\ttrain's l2: 426.79\tvalid's l2: 745.858\n",
            "[926]\ttrain's l2: 425.556\tvalid's l2: 745.611\n",
            "[927]\ttrain's l2: 426.158\tvalid's l2: 745.742\n",
            "[928]\ttrain's l2: 426.659\tvalid's l2: 745.844\n",
            "[929]\ttrain's l2: 425.713\tvalid's l2: 745.61\n",
            "[930]\ttrain's l2: 424.709\tvalid's l2: 745.563\n",
            "[931]\ttrain's l2: 425.234\tvalid's l2: 745.651\n",
            "[932]\ttrain's l2: 425.783\tvalid's l2: 745.759\n",
            "[933]\ttrain's l2: 424.856\tvalid's l2: 745.758\n",
            "[934]\ttrain's l2: 423.837\tvalid's l2: 745.657\n",
            "[935]\ttrain's l2: 422.792\tvalid's l2: 745.681\n",
            "[936]\ttrain's l2: 423.387\tvalid's l2: 745.823\n",
            "[937]\ttrain's l2: 424.084\tvalid's l2: 745.933\n",
            "[938]\ttrain's l2: 423.339\tvalid's l2: 746.139\n",
            "[939]\ttrain's l2: 423.809\tvalid's l2: 746.209\n",
            "[940]\ttrain's l2: 422.81\tvalid's l2: 746.101\n",
            "[941]\ttrain's l2: 423.9\tvalid's l2: 746.742\n",
            "[942]\ttrain's l2: 422.765\tvalid's l2: 746.599\n",
            "[943]\ttrain's l2: 423.346\tvalid's l2: 746.742\n",
            "[944]\ttrain's l2: 422.407\tvalid's l2: 746.667\n",
            "[945]\ttrain's l2: 423.084\tvalid's l2: 746.785\n",
            "[946]\ttrain's l2: 423.582\tvalid's l2: 746.91\n",
            "[947]\ttrain's l2: 422.342\tvalid's l2: 746.478\n",
            "[948]\ttrain's l2: 421.294\tvalid's l2: 746.385\n",
            "[949]\ttrain's l2: 420.463\tvalid's l2: 746.589\n",
            "[950]\ttrain's l2: 419.706\tvalid's l2: 746.299\n",
            "[951]\ttrain's l2: 418.901\tvalid's l2: 746.17\n",
            "[952]\ttrain's l2: 419.475\tvalid's l2: 746.266\n",
            "[953]\ttrain's l2: 420.586\tvalid's l2: 746.893\n",
            "[954]\ttrain's l2: 421.096\tvalid's l2: 747.003\n",
            "[955]\ttrain's l2: 420.164\tvalid's l2: 746.72\n",
            "[956]\ttrain's l2: 419.25\tvalid's l2: 746.674\n",
            "[957]\ttrain's l2: 418.145\tvalid's l2: 746.535\n",
            "[958]\ttrain's l2: 418.693\tvalid's l2: 746.634\n",
            "[959]\ttrain's l2: 417.767\tvalid's l2: 746.276\n",
            "[960]\ttrain's l2: 416.926\tvalid's l2: 746.335\n",
            "[961]\ttrain's l2: 416.112\tvalid's l2: 746.38\n",
            "[962]\ttrain's l2: 415.206\tvalid's l2: 746.3\n",
            "[963]\ttrain's l2: 414.374\tvalid's l2: 746.153\n",
            "[964]\ttrain's l2: 414.827\tvalid's l2: 746.239\n",
            "[965]\ttrain's l2: 413.963\tvalid's l2: 746.123\n",
            "[966]\ttrain's l2: 414.491\tvalid's l2: 746.19\n",
            "[967]\ttrain's l2: 415.037\tvalid's l2: 746.261\n",
            "[968]\ttrain's l2: 415.544\tvalid's l2: 746.321\n",
            "[969]\ttrain's l2: 416.054\tvalid's l2: 746.415\n",
            "[970]\ttrain's l2: 415.17\tvalid's l2: 746.499\n",
            "[971]\ttrain's l2: 414.397\tvalid's l2: 746.34\n",
            "[972]\ttrain's l2: 413.617\tvalid's l2: 746.655\n",
            "[973]\ttrain's l2: 414.254\tvalid's l2: 746.743\n",
            "[974]\ttrain's l2: 414.83\tvalid's l2: 746.843\n",
            "[975]\ttrain's l2: 415.399\tvalid's l2: 746.918\n",
            "[976]\ttrain's l2: 414.467\tvalid's l2: 747.195\n",
            "[977]\ttrain's l2: 414.982\tvalid's l2: 747.31\n",
            "[978]\ttrain's l2: 414.201\tvalid's l2: 747.274\n",
            "[979]\ttrain's l2: 414.696\tvalid's l2: 747.351\n",
            "[980]\ttrain's l2: 413.856\tvalid's l2: 747.216\n",
            "[981]\ttrain's l2: 414.356\tvalid's l2: 747.309\n",
            "[982]\ttrain's l2: 414.899\tvalid's l2: 747.412\n",
            "[983]\ttrain's l2: 414.002\tvalid's l2: 747.558\n",
            "[984]\ttrain's l2: 412.797\tvalid's l2: 747.844\n",
            "[985]\ttrain's l2: 413.29\tvalid's l2: 747.924\n",
            "[986]\ttrain's l2: 413.783\tvalid's l2: 748.002\n",
            "[987]\ttrain's l2: 414.316\tvalid's l2: 748.065\n",
            "[988]\ttrain's l2: 413.423\tvalid's l2: 748.254\n",
            "[989]\ttrain's l2: 413.964\tvalid's l2: 748.326\n",
            "[990]\ttrain's l2: 414.422\tvalid's l2: 748.434\n",
            "[991]\ttrain's l2: 413.282\tvalid's l2: 748.324\n",
            "[992]\ttrain's l2: 412.356\tvalid's l2: 748.29\n",
            "[993]\ttrain's l2: 412.837\tvalid's l2: 748.376\n",
            "[994]\ttrain's l2: 411.724\tvalid's l2: 748.703\n",
            "[995]\ttrain's l2: 412.276\tvalid's l2: 748.777\n",
            "[996]\ttrain's l2: 411.455\tvalid's l2: 748.462\n",
            "[997]\ttrain's l2: 410.794\tvalid's l2: 748.753\n",
            "[998]\ttrain's l2: 411.264\tvalid's l2: 748.823\n",
            "[999]\ttrain's l2: 410.24\tvalid's l2: 748.813\n",
            "[1000]\ttrain's l2: 410.664\tvalid's l2: 748.855\n"
          ]
        }
      ]
    },
    {
      "cell_type": "code",
      "source": [
        "metrics.mean_absolute_error(y_test, predictions),metrics.mean_squared_error(y_test, predictions)"
      ],
      "metadata": {
        "colab": {
          "base_uri": "https://localhost:8080/"
        },
        "id": "Bx1j5-sOy9uI",
        "outputId": "9884652a-e937-4e57-92c6-817b67072eca"
      },
      "execution_count": 229,
      "outputs": [
        {
          "output_type": "execute_result",
          "data": {
            "text/plain": [
              "(21.040908390922915, 748.8546296571009)"
            ]
          },
          "metadata": {},
          "execution_count": 229
        }
      ]
    },
    {
      "cell_type": "markdown",
      "source": [
        "## Use the model to make predictions "
      ],
      "metadata": {
        "id": "GUZQ2IX4cKaE"
      }
    },
    {
      "cell_type": "code",
      "source": [
        "my_model = layer.get_model(\"zindi/sample-air-quality/models/air_model\").get_train()"
      ],
      "metadata": {
        "id": "0c0a7105-cf13-4a70-a63b-8b6e9a440ee3",
        "execution": {
          "iopub.status.busy": "2022-09-25T10:38:05.218370Z",
          "iopub.status.idle": "2022-09-25T10:38:05.218743Z",
          "shell.execute_reply.started": "2022-09-25T10:38:05.218560Z",
          "shell.execute_reply": "2022-09-25T10:38:05.218577Z"
        },
        "trusted": true
      },
      "execution_count": null,
      "outputs": []
    },
    {
      "cell_type": "code",
      "source": [
        "test_orig = test_ids.merge(linintp_test,\n",
        "                          on='ID',\n",
        "                          how = 'left')\n",
        "\n",
        "test_orig.shape"
      ],
      "metadata": {
        "colab": {
          "base_uri": "https://localhost:8080/"
        },
        "id": "fRo-0AWSkZKO",
        "outputId": "ed0a560c-1f04-49a9-c30c-cc7d8333233f"
      },
      "execution_count": 230,
      "outputs": [
        {
          "output_type": "execute_result",
          "data": {
            "text/plain": [
              "(4254, 83)"
            ]
          },
          "metadata": {},
          "execution_count": 230
        }
      ]
    },
    {
      "cell_type": "code",
      "source": [
        "from sklearn.preprocessing import LabelEncoder\n",
        "X = test_orig.drop([\"ID\",\"date\"], axis=1)\n",
        "labelencoder = LabelEncoder()\n",
        "X = X.assign(device = labelencoder.fit_transform(X[\"device\"]))"
      ],
      "metadata": {
        "id": "rgeqLhEtceCf",
        "execution": {
          "iopub.status.busy": "2022-09-25T10:38:05.219898Z",
          "iopub.status.idle": "2022-09-25T10:38:05.220336Z",
          "shell.execute_reply.started": "2022-09-25T10:38:05.220133Z",
          "shell.execute_reply": "2022-09-25T10:38:05.220153Z"
        },
        "trusted": true
      },
      "execution_count": 231,
      "outputs": []
    },
    {
      "cell_type": "code",
      "source": [
        "predictions = gbm.predict(X)"
      ],
      "metadata": {
        "id": "XCHS4wpgdI3C",
        "execution": {
          "iopub.status.busy": "2022-09-25T10:38:05.221512Z",
          "iopub.status.idle": "2022-09-25T10:38:05.221882Z",
          "shell.execute_reply.started": "2022-09-25T10:38:05.221700Z",
          "shell.execute_reply": "2022-09-25T10:38:05.221717Z"
        },
        "trusted": true
      },
      "execution_count": 232,
      "outputs": []
    },
    {
      "cell_type": "markdown",
      "source": [
        "## Generate submission file"
      ],
      "metadata": {
        "id": "99dMm6OwdXSI"
      }
    },
    {
      "cell_type": "code",
      "source": [
        "import pandas as pd\n",
        "submission = pd.DataFrame(data=test_df[\"ID\"], columns = [\"ID\"])\n",
        "submission[\"pm2_5\"] = predictions"
      ],
      "metadata": {
        "id": "uHVzonO4dK_t",
        "execution": {
          "iopub.status.busy": "2022-09-25T10:38:05.223768Z",
          "iopub.status.idle": "2022-09-25T10:38:05.224521Z",
          "shell.execute_reply.started": "2022-09-25T10:38:05.224293Z",
          "shell.execute_reply": "2022-09-25T10:38:05.224315Z"
        },
        "trusted": true
      },
      "execution_count": 233,
      "outputs": []
    },
    {
      "cell_type": "code",
      "source": [
        "submission.head()"
      ],
      "metadata": {
        "id": "haz-SZpXdvD-",
        "execution": {
          "iopub.status.busy": "2022-09-25T10:38:05.225539Z",
          "iopub.status.idle": "2022-09-25T10:38:05.225947Z",
          "shell.execute_reply.started": "2022-09-25T10:38:05.225747Z",
          "shell.execute_reply": "2022-09-25T10:38:05.225766Z"
        },
        "trusted": true,
        "colab": {
          "base_uri": "https://localhost:8080/",
          "height": 206
        },
        "outputId": "defa7d67-3805-4233-8b2a-6f56aa89f341"
      },
      "execution_count": 234,
      "outputs": [
        {
          "output_type": "execute_result",
          "data": {
            "text/plain": [
              "              ID      pm2_5\n",
              "0  ID_UOH62J0XHX  76.791515\n",
              "1  ID_4OPWSB0UHJ  77.177709\n",
              "2  ID_3SLMNNG1Z3  82.657149\n",
              "3  ID_MFUHTXYPM4  76.958120\n",
              "4  ID_TY1DAND8ZP  86.659756"
            ],
            "text/html": [
              "\n",
              "  <div id=\"df-04659a65-b09d-42e5-af59-e44c5a9e80b4\">\n",
              "    <div class=\"colab-df-container\">\n",
              "      <div>\n",
              "<style scoped>\n",
              "    .dataframe tbody tr th:only-of-type {\n",
              "        vertical-align: middle;\n",
              "    }\n",
              "\n",
              "    .dataframe tbody tr th {\n",
              "        vertical-align: top;\n",
              "    }\n",
              "\n",
              "    .dataframe thead th {\n",
              "        text-align: right;\n",
              "    }\n",
              "</style>\n",
              "<table border=\"1\" class=\"dataframe\">\n",
              "  <thead>\n",
              "    <tr style=\"text-align: right;\">\n",
              "      <th></th>\n",
              "      <th>ID</th>\n",
              "      <th>pm2_5</th>\n",
              "    </tr>\n",
              "  </thead>\n",
              "  <tbody>\n",
              "    <tr>\n",
              "      <th>0</th>\n",
              "      <td>ID_UOH62J0XHX</td>\n",
              "      <td>76.791515</td>\n",
              "    </tr>\n",
              "    <tr>\n",
              "      <th>1</th>\n",
              "      <td>ID_4OPWSB0UHJ</td>\n",
              "      <td>77.177709</td>\n",
              "    </tr>\n",
              "    <tr>\n",
              "      <th>2</th>\n",
              "      <td>ID_3SLMNNG1Z3</td>\n",
              "      <td>82.657149</td>\n",
              "    </tr>\n",
              "    <tr>\n",
              "      <th>3</th>\n",
              "      <td>ID_MFUHTXYPM4</td>\n",
              "      <td>76.958120</td>\n",
              "    </tr>\n",
              "    <tr>\n",
              "      <th>4</th>\n",
              "      <td>ID_TY1DAND8ZP</td>\n",
              "      <td>86.659756</td>\n",
              "    </tr>\n",
              "  </tbody>\n",
              "</table>\n",
              "</div>\n",
              "      <button class=\"colab-df-convert\" onclick=\"convertToInteractive('df-04659a65-b09d-42e5-af59-e44c5a9e80b4')\"\n",
              "              title=\"Convert this dataframe to an interactive table.\"\n",
              "              style=\"display:none;\">\n",
              "        \n",
              "  <svg xmlns=\"http://www.w3.org/2000/svg\" height=\"24px\"viewBox=\"0 0 24 24\"\n",
              "       width=\"24px\">\n",
              "    <path d=\"M0 0h24v24H0V0z\" fill=\"none\"/>\n",
              "    <path d=\"M18.56 5.44l.94 2.06.94-2.06 2.06-.94-2.06-.94-.94-2.06-.94 2.06-2.06.94zm-11 1L8.5 8.5l.94-2.06 2.06-.94-2.06-.94L8.5 2.5l-.94 2.06-2.06.94zm10 10l.94 2.06.94-2.06 2.06-.94-2.06-.94-.94-2.06-.94 2.06-2.06.94z\"/><path d=\"M17.41 7.96l-1.37-1.37c-.4-.4-.92-.59-1.43-.59-.52 0-1.04.2-1.43.59L10.3 9.45l-7.72 7.72c-.78.78-.78 2.05 0 2.83L4 21.41c.39.39.9.59 1.41.59.51 0 1.02-.2 1.41-.59l7.78-7.78 2.81-2.81c.8-.78.8-2.07 0-2.86zM5.41 20L4 18.59l7.72-7.72 1.47 1.35L5.41 20z\"/>\n",
              "  </svg>\n",
              "      </button>\n",
              "      \n",
              "  <style>\n",
              "    .colab-df-container {\n",
              "      display:flex;\n",
              "      flex-wrap:wrap;\n",
              "      gap: 12px;\n",
              "    }\n",
              "\n",
              "    .colab-df-convert {\n",
              "      background-color: #E8F0FE;\n",
              "      border: none;\n",
              "      border-radius: 50%;\n",
              "      cursor: pointer;\n",
              "      display: none;\n",
              "      fill: #1967D2;\n",
              "      height: 32px;\n",
              "      padding: 0 0 0 0;\n",
              "      width: 32px;\n",
              "    }\n",
              "\n",
              "    .colab-df-convert:hover {\n",
              "      background-color: #E2EBFA;\n",
              "      box-shadow: 0px 1px 2px rgba(60, 64, 67, 0.3), 0px 1px 3px 1px rgba(60, 64, 67, 0.15);\n",
              "      fill: #174EA6;\n",
              "    }\n",
              "\n",
              "    [theme=dark] .colab-df-convert {\n",
              "      background-color: #3B4455;\n",
              "      fill: #D2E3FC;\n",
              "    }\n",
              "\n",
              "    [theme=dark] .colab-df-convert:hover {\n",
              "      background-color: #434B5C;\n",
              "      box-shadow: 0px 1px 3px 1px rgba(0, 0, 0, 0.15);\n",
              "      filter: drop-shadow(0px 1px 2px rgba(0, 0, 0, 0.3));\n",
              "      fill: #FFFFFF;\n",
              "    }\n",
              "  </style>\n",
              "\n",
              "      <script>\n",
              "        const buttonEl =\n",
              "          document.querySelector('#df-04659a65-b09d-42e5-af59-e44c5a9e80b4 button.colab-df-convert');\n",
              "        buttonEl.style.display =\n",
              "          google.colab.kernel.accessAllowed ? 'block' : 'none';\n",
              "\n",
              "        async function convertToInteractive(key) {\n",
              "          const element = document.querySelector('#df-04659a65-b09d-42e5-af59-e44c5a9e80b4');\n",
              "          const dataTable =\n",
              "            await google.colab.kernel.invokeFunction('convertToInteractive',\n",
              "                                                     [key], {});\n",
              "          if (!dataTable) return;\n",
              "\n",
              "          const docLinkHtml = 'Like what you see? Visit the ' +\n",
              "            '<a target=\"_blank\" href=https://colab.research.google.com/notebooks/data_table.ipynb>data table notebook</a>'\n",
              "            + ' to learn more about interactive tables.';\n",
              "          element.innerHTML = '';\n",
              "          dataTable['output_type'] = 'display_data';\n",
              "          await google.colab.output.renderOutput(dataTable, element);\n",
              "          const docLink = document.createElement('div');\n",
              "          docLink.innerHTML = docLinkHtml;\n",
              "          element.appendChild(docLink);\n",
              "        }\n",
              "      </script>\n",
              "    </div>\n",
              "  </div>\n",
              "  "
            ]
          },
          "metadata": {},
          "execution_count": 234
        }
      ]
    },
    {
      "cell_type": "code",
      "source": [
        "submission.plot(kind='hist',bins=100,figsize=(12,7),title='Dist of test target',color='g')\n"
      ],
      "metadata": {
        "colab": {
          "base_uri": "https://localhost:8080/",
          "height": 461
        },
        "id": "o99fX1O3zgH5",
        "outputId": "2cdd2dc5-34be-46b3-bbf6-64e9766b2da0"
      },
      "execution_count": 235,
      "outputs": [
        {
          "output_type": "execute_result",
          "data": {
            "text/plain": [
              "<matplotlib.axes._subplots.AxesSubplot at 0x7f58c6248650>"
            ]
          },
          "metadata": {},
          "execution_count": 235
        },
        {
          "output_type": "display_data",
          "data": {
            "text/plain": [
              "<Figure size 864x504 with 1 Axes>"
            ],
            "image/png": "[encoded data removed]"
          },
          "metadata": {
            "needs_background": "light"
          }
        }
      ]
    },
    {
      "cell_type": "code",
      "source": [
        "submission.to_csv(\"submission.csv\",index=False)"
      ],
      "metadata": {
        "id": "DYssPq94dwcV",
        "execution": {
          "iopub.status.busy": "2022-09-25T10:38:05.228315Z",
          "iopub.status.idle": "2022-09-25T10:38:05.228703Z",
          "shell.execute_reply.started": "2022-09-25T10:38:05.228518Z",
          "shell.execute_reply": "2022-09-25T10:38:05.228536Z"
        },
        "trusted": true
      },
      "execution_count": 236,
      "outputs": []
    },
    {
      "cell_type": "code",
      "source": [],
      "metadata": {
        "id": "jd7-Grwc-xUl"
      },
      "execution_count": null,
      "outputs": []
    }
  ]
}